{
 "cells": [
  {
   "cell_type": "code",
   "execution_count": 1,
   "id": "b40c7396",
   "metadata": {},
   "outputs": [],
   "source": [
    "from datetime import datetime\n",
    "import pandas as pd\n",
    "import os"
   ]
  },
  {
   "cell_type": "code",
   "execution_count": 2,
   "id": "993f43be",
   "metadata": {},
   "outputs": [],
   "source": [
    "pdb_path = f'{os.getcwd()}\\PDBs\\DBBASP'"
   ]
  },
  {
   "cell_type": "code",
   "execution_count": 3,
   "id": "f2b2a27c",
   "metadata": {},
   "outputs": [],
   "source": [
    "dfs = []\n",
    "for i in range(1, 6):\n",
    "    df_aux = pd.read_csv(f'{pdb_path}/peptides-{i}.csv')\n",
    "    dfs.append(df_aux)"
   ]
  },
  {
   "cell_type": "code",
   "execution_count": 4,
   "id": "7592e2c9",
   "metadata": {},
   "outputs": [],
   "source": [
    "#Drop equal lines in DataFrames\n",
    "dfs[1].drop(3995, axis=0, inplace=True)\n",
    "dfs[2].drop(3992, axis=0, inplace=True)\n",
    "dfs[3].drop(4002, axis=0, inplace=True)"
   ]
  },
  {
   "cell_type": "code",
   "execution_count": 5,
   "id": "4a114574",
   "metadata": {},
   "outputs": [],
   "source": [
    "df = pd.concat(dfs, axis=0, ignore_index=True)"
   ]
  },
  {
   "cell_type": "code",
   "execution_count": 6,
   "id": "d2f14b1c",
   "metadata": {},
   "outputs": [],
   "source": [
    "#Add link from DBBASP for each peptide\n",
    "base_url = 'https://dbaasp.org/peptide-card?id=DBAASP'\n",
    "links = []\n",
    "for i in range(0, len(df)):\n",
    "    links.append(f'{base_url}{df.loc[i][\"SYNTHESIS TYPE\"][:1]}_{df.loc[i][\"ID\"]}')\n",
    "df['LINK'] = links"
   ]
  },
  {
   "cell_type": "code",
   "execution_count": 7,
   "id": "97a778c5",
   "metadata": {},
   "outputs": [],
   "source": [
    "dt = datetime.now()\n",
    "df.to_csv(f'{pdb_path}/DBBASP_{dt.strftime(\"%Y_%m_%d\")}.csv', index=False)"
   ]
  },
  {
   "cell_type": "code",
   "execution_count": 8,
   "id": "66e709cd",
   "metadata": {},
   "outputs": [
    {
     "data": {
      "text/html": [
       "<div>\n",
       "<style scoped>\n",
       "    .dataframe tbody tr th:only-of-type {\n",
       "        vertical-align: middle;\n",
       "    }\n",
       "\n",
       "    .dataframe tbody tr th {\n",
       "        vertical-align: top;\n",
       "    }\n",
       "\n",
       "    .dataframe thead th {\n",
       "        text-align: right;\n",
       "    }\n",
       "</style>\n",
       "<table border=\"1\" class=\"dataframe\">\n",
       "  <thead>\n",
       "    <tr style=\"text-align: right;\">\n",
       "      <th></th>\n",
       "      <th>ID</th>\n",
       "      <th>COMPLEXITY</th>\n",
       "      <th>NAME</th>\n",
       "      <th>N TERMINUS</th>\n",
       "      <th>SEQUENCE</th>\n",
       "      <th>C TERMINUS</th>\n",
       "      <th>SYNTHESIS TYPE</th>\n",
       "      <th>TARGET GROUP</th>\n",
       "      <th>TARGET OBJECT</th>\n",
       "      <th>LINK</th>\n",
       "    </tr>\n",
       "  </thead>\n",
       "  <tbody>\n",
       "    <tr>\n",
       "      <th>0</th>\n",
       "      <td>1</td>\n",
       "      <td>Multimer</td>\n",
       "      <td>Distinctin</td>\n",
       "      <td>NaN</td>\n",
       "      <td>NLVSGLIEARKYLEQLHRKLKNCKV    ENREVPPGFTALIKTLR...</td>\n",
       "      <td>NaN</td>\n",
       "      <td>Ribosomal</td>\n",
       "      <td>Gram+    Gram-</td>\n",
       "      <td>Lipid Bilayer</td>\n",
       "      <td>https://dbaasp.org/peptide-card?id=DBAASPR_1</td>\n",
       "    </tr>\n",
       "    <tr>\n",
       "      <th>1</th>\n",
       "      <td>3</td>\n",
       "      <td>Multimer</td>\n",
       "      <td>Halocidin</td>\n",
       "      <td>NaN</td>\n",
       "      <td>WLNALLHHGLNCAKGVLA    ALLHHGLNCAKGVLA</td>\n",
       "      <td>AMD    AMD</td>\n",
       "      <td>Ribosomal</td>\n",
       "      <td>Gram+</td>\n",
       "      <td>Lipid Bilayer</td>\n",
       "      <td>https://dbaasp.org/peptide-card?id=DBAASPR_3</td>\n",
       "    </tr>\n",
       "    <tr>\n",
       "      <th>2</th>\n",
       "      <td>4</td>\n",
       "      <td>Multimer</td>\n",
       "      <td>Khal</td>\n",
       "      <td>NaN</td>\n",
       "      <td>KWLNALLHHGLNCAKGVLA    ALLHHGLNCAKGVLA</td>\n",
       "      <td>AMD    AMD</td>\n",
       "      <td>Synthetic</td>\n",
       "      <td>Gram+    Gram-</td>\n",
       "      <td>Lipid Bilayer</td>\n",
       "      <td>https://dbaasp.org/peptide-card?id=DBAASPS_4</td>\n",
       "    </tr>\n",
       "  </tbody>\n",
       "</table>\n",
       "</div>"
      ],
      "text/plain": [
       "   ID COMPLEXITY        NAME N TERMINUS  \\\n",
       "0   1   Multimer  Distinctin        NaN   \n",
       "1   3   Multimer   Halocidin        NaN   \n",
       "2   4   Multimer        Khal        NaN   \n",
       "\n",
       "                                            SEQUENCE  C TERMINUS  \\\n",
       "0  NLVSGLIEARKYLEQLHRKLKNCKV    ENREVPPGFTALIKTLR...         NaN   \n",
       "1              WLNALLHHGLNCAKGVLA    ALLHHGLNCAKGVLA  AMD    AMD   \n",
       "2             KWLNALLHHGLNCAKGVLA    ALLHHGLNCAKGVLA  AMD    AMD   \n",
       "\n",
       "  SYNTHESIS TYPE    TARGET GROUP  TARGET OBJECT  \\\n",
       "0      Ribosomal  Gram+    Gram-  Lipid Bilayer   \n",
       "1      Ribosomal           Gram+  Lipid Bilayer   \n",
       "2      Synthetic  Gram+    Gram-  Lipid Bilayer   \n",
       "\n",
       "                                           LINK  \n",
       "0  https://dbaasp.org/peptide-card?id=DBAASPR_1  \n",
       "1  https://dbaasp.org/peptide-card?id=DBAASPR_3  \n",
       "2  https://dbaasp.org/peptide-card?id=DBAASPS_4  "
      ]
     },
     "execution_count": 8,
     "metadata": {},
     "output_type": "execute_result"
    }
   ],
   "source": [
    "df.head(3)"
   ]
  }
 ],
 "metadata": {
  "kernelspec": {
   "display_name": "Python 3 (ipykernel)",
   "language": "python",
   "name": "python3"
  },
  "language_info": {
   "codemirror_mode": {
    "name": "ipython",
    "version": 3
   },
   "file_extension": ".py",
   "mimetype": "text/x-python",
   "name": "python",
   "nbconvert_exporter": "python",
   "pygments_lexer": "ipython3",
   "version": "3.9.13"
  }
 },
 "nbformat": 4,
 "nbformat_minor": 5
}
