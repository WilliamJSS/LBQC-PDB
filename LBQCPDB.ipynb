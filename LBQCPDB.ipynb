{
 "cells": [
  {
   "cell_type": "code",
   "execution_count": 1,
   "metadata": {},
   "outputs": [],
   "source": [
    "from datetime import datetime\n",
    "from tqdm import tqdm\n",
    "import pandas as pd\n",
    "import os"
   ]
  },
  {
   "cell_type": "code",
   "execution_count": 2,
   "metadata": {},
   "outputs": [],
   "source": [
    "path = os.getcwd()\n",
    "pdbs = ['APD3', 'CancerPPD', 'DBBASP', 'FermFooDb', 'MAHMI', 'PepBDB', 'THPdb']"
   ]
  },
  {
   "cell_type": "code",
   "execution_count": 3,
   "metadata": {},
   "outputs": [],
   "source": [
    "dfs = {}\n",
    "for pdb in pdbs:\n",
    "    dfs[pdb] = pd.read_csv(f'{path}/PDBs/{pdb}.csv')"
   ]
  },
  {
   "cell_type": "code",
   "execution_count": 4,
   "metadata": {},
   "outputs": [],
   "source": [
    "count_id = 1\n",
    "data = {\n",
    "    'LBQCPDB ID': [],\n",
    "    'Source ID': [],\n",
    "    'Sequence': [],\n",
    "    'Activity': [],\n",
    "    'Source PDB': [],\n",
    "    'DOI': []\n",
    "}"
   ]
  },
  {
   "cell_type": "code",
   "execution_count": 5,
   "metadata": {},
   "outputs": [
    {
     "name": "stderr",
     "output_type": "stream",
     "text": [
      "100%|██████████| 3579/3579 [00:00<00:00, 8017.78it/s]\n"
     ]
    }
   ],
   "source": [
    "# APD3\n",
    "for i in tqdm(range(0, len(dfs['APD3']))):\n",
    "    line = dfs['APD3'].loc[i]\n",
    "    data['LBQCPDB ID'].append('LBQCPDB_{:6}'.format(count_id).replace(' ', '0'))\n",
    "    data['Source ID'].append(line['APD ID'])\n",
    "    data['Sequence'].append(line['Sequence'])\n",
    "    data['Activity'].append(line['Activity'])\n",
    "    data['Source PDB'].append('APD3')\n",
    "    data['DOI'].append(line['DOI'])\n",
    "    count_id += 1"
   ]
  },
  {
   "cell_type": "code",
   "execution_count": 6,
   "metadata": {},
   "outputs": [
    {
     "name": "stderr",
     "output_type": "stream",
     "text": [
      "100%|██████████| 5068/5068 [00:00<00:00, 8539.19it/s]\n"
     ]
    }
   ],
   "source": [
    "# CancerPPD\n",
    "for i in tqdm(range(0, len(dfs['CancerPPD']))):\n",
    "    line = dfs['CancerPPD'].loc[i]\n",
    "    data['LBQCPDB ID'].append('LBQCPDB_{:6}'.format(count_id).replace(' ', '0'))\n",
    "    data['Source ID'].append('Not Found')\n",
    "    data['Sequence'].append(line['SEQUENCE'])\n",
    "    data['Activity'].append('Not Found')\n",
    "    data['Source PDB'].append('CancerPPD')\n",
    "    data['DOI'].append(line['DOI'])\n",
    "    count_id += 1"
   ]
  },
  {
   "cell_type": "code",
   "execution_count": 7,
   "metadata": {},
   "outputs": [
    {
     "name": "stderr",
     "output_type": "stream",
     "text": [
      "100%|██████████| 20420/20420 [00:02<00:00, 9106.91it/s]\n"
     ]
    }
   ],
   "source": [
    "# DBBASP\n",
    "for i in tqdm(range(0, len(dfs['DBBASP']))):\n",
    "    line = dfs['DBBASP'].loc[i]\n",
    "    data['LBQCPDB ID'].append('LBQCPDB_{:6}'.format(count_id).replace(' ', '0'))\n",
    "    data['Source ID'].append(line['ID'])\n",
    "    data['Sequence'].append(line['SEQUENCE'])\n",
    "    data['Activity'].append('Not Found')\n",
    "    data['Source PDB'].append('DBBASP')\n",
    "    data['DOI'].append(line['DOI'])\n",
    "    count_id += 1"
   ]
  },
  {
   "cell_type": "code",
   "execution_count": 8,
   "metadata": {},
   "outputs": [
    {
     "name": "stderr",
     "output_type": "stream",
     "text": [
      "100%|██████████| 2205/2205 [00:00<00:00, 8286.69it/s]\n"
     ]
    }
   ],
   "source": [
    "# FermFooDb\n",
    "for i in tqdm(range(0, len(dfs['FermFooDb']))):\n",
    "    line = dfs['FermFooDb'].loc[i]\n",
    "    data['LBQCPDB ID'].append('LBQCPDB_{:6}'.format(count_id).replace(' ', '0'))\n",
    "    data['Source ID'].append('Not Found')\n",
    "    data['Sequence'].append(line['Peptide Sequence'])\n",
    "    data['Activity'].append(line['Activity'])\n",
    "    data['Source PDB'].append('FermFooDb')\n",
    "    data['DOI'].append(line['DOI'])\n",
    "    count_id += 1"
   ]
  },
  {
   "cell_type": "code",
   "execution_count": 9,
   "metadata": {},
   "outputs": [
    {
     "name": "stderr",
     "output_type": "stream",
     "text": [
      "100%|██████████| 276400/276400 [00:30<00:00, 9152.48it/s]\n"
     ]
    }
   ],
   "source": [
    "# MAHMI\n",
    "for i in tqdm(range(0, len(dfs['MAHMI']))):\n",
    "    line = dfs['MAHMI'].loc[i]\n",
    "    data['LBQCPDB ID'].append('LBQCPDB_{:6}'.format(count_id).replace(' ', '0'))\n",
    "    data['Source ID'].append(line['ID'])\n",
    "    data['Sequence'].append(line['SEQUENCE'])\n",
    "    data['Activity'].append(line['BIOACTIVITY'])\n",
    "    data['Source PDB'].append('MAHMI')\n",
    "    data['DOI'].append('Not Found')\n",
    "    count_id += 1"
   ]
  },
  {
   "cell_type": "code",
   "execution_count": 10,
   "metadata": {},
   "outputs": [
    {
     "name": "stderr",
     "output_type": "stream",
     "text": [
      "100%|██████████| 13301/13301 [00:01<00:00, 8755.22it/s]\n"
     ]
    }
   ],
   "source": [
    "# PepBDB\n",
    "for i in tqdm(range(0, len(dfs['PepBDB']))):\n",
    "    line = dfs['PepBDB'].loc[i]\n",
    "    data['LBQCPDB ID'].append('LBQCPDB_{:6}'.format(count_id).replace(' ', '0'))\n",
    "    data['Source ID'].append(line['Peptide ID'])\n",
    "    data['Sequence'].append(line['Sequence'])\n",
    "    data['Activity'].append('Not Found')\n",
    "    data['Source PDB'].append('PepBDB')\n",
    "    data['DOI'].append('Not Found')\n",
    "    count_id += 1"
   ]
  },
  {
   "cell_type": "code",
   "execution_count": 11,
   "metadata": {},
   "outputs": [
    {
     "name": "stderr",
     "output_type": "stream",
     "text": [
      "100%|██████████| 852/852 [00:00<00:00, 8568.96it/s]\n"
     ]
    }
   ],
   "source": [
    "# THPdb\n",
    "for i in tqdm(range(0, len(dfs['THPdb']))):\n",
    "    line = dfs['THPdb'].loc[i]\n",
    "    data['LBQCPDB ID'].append('LBQCPDB_{:6}'.format(count_id).replace(' ', '0'))\n",
    "    data['Source ID'].append(line['ID'])\n",
    "    data['Sequence'].append(line['Sequence'])\n",
    "    data['Activity'].append('Not Found')\n",
    "    data['Source PDB'].append('THPdb')\n",
    "    data['DOI'].append('Not Found')\n",
    "    count_id += 1"
   ]
  },
  {
   "cell_type": "code",
   "execution_count": 12,
   "metadata": {},
   "outputs": [],
   "source": [
    "df = pd.DataFrame(data)"
   ]
  },
  {
   "cell_type": "code",
   "execution_count": 13,
   "metadata": {},
   "outputs": [],
   "source": [
    "dt = datetime.now()\n",
    "df.to_csv(f'{path}/PDBs/LBQCPDB_releases/LBQCPDB_{dt.strftime(\"%Y_%m_%d\")}.csv', index=False)\n",
    "df.to_csv(f'{path}/LBQCPDB.csv', index=False)"
   ]
  },
  {
   "cell_type": "code",
   "execution_count": 16,
   "metadata": {},
   "outputs": [
    {
     "data": {
      "text/html": [
       "<div>\n",
       "<style scoped>\n",
       "    .dataframe tbody tr th:only-of-type {\n",
       "        vertical-align: middle;\n",
       "    }\n",
       "\n",
       "    .dataframe tbody tr th {\n",
       "        vertical-align: top;\n",
       "    }\n",
       "\n",
       "    .dataframe thead th {\n",
       "        text-align: right;\n",
       "    }\n",
       "</style>\n",
       "<table border=\"1\" class=\"dataframe\">\n",
       "  <thead>\n",
       "    <tr style=\"text-align: right;\">\n",
       "      <th></th>\n",
       "      <th>LBQCPDB ID</th>\n",
       "      <th>Source ID</th>\n",
       "      <th>Sequence</th>\n",
       "      <th>Activity</th>\n",
       "      <th>Source PDB</th>\n",
       "      <th>DOI</th>\n",
       "    </tr>\n",
       "  </thead>\n",
       "  <tbody>\n",
       "    <tr>\n",
       "      <th>count</th>\n",
       "      <td>321825</td>\n",
       "      <td>321825</td>\n",
       "      <td>321710</td>\n",
       "      <td>320682</td>\n",
       "      <td>321825</td>\n",
       "      <td>321825</td>\n",
       "    </tr>\n",
       "    <tr>\n",
       "      <th>unique</th>\n",
       "      <td>321825</td>\n",
       "      <td>313703</td>\n",
       "      <td>304878</td>\n",
       "      <td>407</td>\n",
       "      <td>7</td>\n",
       "      <td>5088</td>\n",
       "    </tr>\n",
       "    <tr>\n",
       "      <th>top</th>\n",
       "      <td>LBQCPDB_000001</td>\n",
       "      <td>Not Found</td>\n",
       "      <td>GIVEQCCTSICSLYQLENYCN</td>\n",
       "      <td>Immunomodulatory</td>\n",
       "      <td>MAHMI</td>\n",
       "      <td>Not Found</td>\n",
       "    </tr>\n",
       "    <tr>\n",
       "      <th>freq</th>\n",
       "      <td>1</td>\n",
       "      <td>7273</td>\n",
       "      <td>244</td>\n",
       "      <td>183169</td>\n",
       "      <td>276400</td>\n",
       "      <td>296008</td>\n",
       "    </tr>\n",
       "  </tbody>\n",
       "</table>\n",
       "</div>"
      ],
      "text/plain": [
       "            LBQCPDB ID  Source ID               Sequence          Activity  \\\n",
       "count           321825     321825                 321710            320682   \n",
       "unique          321825     313703                 304878               407   \n",
       "top     LBQCPDB_000001  Not Found  GIVEQCCTSICSLYQLENYCN  Immunomodulatory   \n",
       "freq                 1       7273                    244            183169   \n",
       "\n",
       "       Source PDB        DOI  \n",
       "count      321825     321825  \n",
       "unique          7       5088  \n",
       "top         MAHMI  Not Found  \n",
       "freq       276400     296008  "
      ]
     },
     "execution_count": 16,
     "metadata": {},
     "output_type": "execute_result"
    }
   ],
   "source": [
    "df.describe()"
   ]
  },
  {
   "cell_type": "code",
   "execution_count": 17,
   "metadata": {},
   "outputs": [
    {
     "data": {
      "text/html": [
       "<div>\n",
       "<style scoped>\n",
       "    .dataframe tbody tr th:only-of-type {\n",
       "        vertical-align: middle;\n",
       "    }\n",
       "\n",
       "    .dataframe tbody tr th {\n",
       "        vertical-align: top;\n",
       "    }\n",
       "\n",
       "    .dataframe thead th {\n",
       "        text-align: right;\n",
       "    }\n",
       "</style>\n",
       "<table border=\"1\" class=\"dataframe\">\n",
       "  <thead>\n",
       "    <tr style=\"text-align: right;\">\n",
       "      <th></th>\n",
       "      <th>LBQCPDB ID</th>\n",
       "      <th>Source ID</th>\n",
       "      <th>Sequence</th>\n",
       "      <th>Activity</th>\n",
       "      <th>Source PDB</th>\n",
       "      <th>DOI</th>\n",
       "    </tr>\n",
       "  </thead>\n",
       "  <tbody>\n",
       "    <tr>\n",
       "      <th>0</th>\n",
       "      <td>LBQCPDB_000001</td>\n",
       "      <td>AP00001</td>\n",
       "      <td>GLWSKIKEVGKEAAKAAAKAAGKAALGAVSEAV</td>\n",
       "      <td>Anti-Gram+ &amp; Gram-, Antifungal, candidacidal, ...</td>\n",
       "      <td>APD3</td>\n",
       "      <td>Not Found</td>\n",
       "    </tr>\n",
       "    <tr>\n",
       "      <th>1</th>\n",
       "      <td>LBQCPDB_000002</td>\n",
       "      <td>AP00002</td>\n",
       "      <td>YVPLPNVPQPGRRPFPTFPGQGPFNPKIKWPQGY</td>\n",
       "      <td>Anti-Gram+ &amp; Gram-</td>\n",
       "      <td>APD3</td>\n",
       "      <td>Not Found</td>\n",
       "    </tr>\n",
       "    <tr>\n",
       "      <th>2</th>\n",
       "      <td>LBQCPDB_000003</td>\n",
       "      <td>AP00003</td>\n",
       "      <td>DGVKLCDVPSGTWSGHCGSSSKCSQQCKDREHFAYGGACHYQFPSV...</td>\n",
       "      <td>Antifungal</td>\n",
       "      <td>APD3</td>\n",
       "      <td>Not Found</td>\n",
       "    </tr>\n",
       "    <tr>\n",
       "      <th>3</th>\n",
       "      <td>LBQCPDB_000004</td>\n",
       "      <td>AP00004</td>\n",
       "      <td>NLCERASLTWTGNCGNTGHCDTQCRNWESAKHGACHKRGNWKCFCYFDC</td>\n",
       "      <td>Anti-Gram+, Antifungal</td>\n",
       "      <td>APD3</td>\n",
       "      <td>Not Found</td>\n",
       "    </tr>\n",
       "    <tr>\n",
       "      <th>4</th>\n",
       "      <td>LBQCPDB_000005</td>\n",
       "      <td>AP00005</td>\n",
       "      <td>VFIDILDKVENAIHNAAQVGIGFAKPFEKLINPK</td>\n",
       "      <td>Anti-Gram+</td>\n",
       "      <td>APD3</td>\n",
       "      <td>Not Found</td>\n",
       "    </tr>\n",
       "    <tr>\n",
       "      <th>...</th>\n",
       "      <td>...</td>\n",
       "      <td>...</td>\n",
       "      <td>...</td>\n",
       "      <td>...</td>\n",
       "      <td>...</td>\n",
       "      <td>...</td>\n",
       "    </tr>\n",
       "    <tr>\n",
       "      <th>321820</th>\n",
       "      <td>LBQCPDB_321821</td>\n",
       "      <td>1848</td>\n",
       "      <td>NaN</td>\n",
       "      <td>Not Found</td>\n",
       "      <td>THPdb</td>\n",
       "      <td>Not Found</td>\n",
       "    </tr>\n",
       "    <tr>\n",
       "      <th>321821</th>\n",
       "      <td>LBQCPDB_321822</td>\n",
       "      <td>1849</td>\n",
       "      <td>FPTIPLSRLFDNAMLRAHRLHQLAFDTYQEFEEAYIPKEQKYSFLQ...</td>\n",
       "      <td>Not Found</td>\n",
       "      <td>THPdb</td>\n",
       "      <td>Not Found</td>\n",
       "    </tr>\n",
       "    <tr>\n",
       "      <th>321822</th>\n",
       "      <td>LBQCPDB_321823</td>\n",
       "      <td>1850</td>\n",
       "      <td>FPTIPLSRLFDNAMLRAHRLHQLAFDTYQEFEEAYIPKEQKYSFLQ...</td>\n",
       "      <td>Not Found</td>\n",
       "      <td>THPdb</td>\n",
       "      <td>Not Found</td>\n",
       "    </tr>\n",
       "    <tr>\n",
       "      <th>321823</th>\n",
       "      <td>LBQCPDB_321824</td>\n",
       "      <td>1851</td>\n",
       "      <td>AIRRYYLGAVELSWDYRQSELLRELHVDTRFPATAPGALPLGPSVL...</td>\n",
       "      <td>Not Found</td>\n",
       "      <td>THPdb</td>\n",
       "      <td>Not Found</td>\n",
       "    </tr>\n",
       "    <tr>\n",
       "      <th>321824</th>\n",
       "      <td>LBQCPDB_321825</td>\n",
       "      <td>1852</td>\n",
       "      <td>NaN</td>\n",
       "      <td>Not Found</td>\n",
       "      <td>THPdb</td>\n",
       "      <td>Not Found</td>\n",
       "    </tr>\n",
       "  </tbody>\n",
       "</table>\n",
       "<p>321825 rows × 6 columns</p>\n",
       "</div>"
      ],
      "text/plain": [
       "            LBQCPDB ID Source ID  \\\n",
       "0       LBQCPDB_000001   AP00001   \n",
       "1       LBQCPDB_000002   AP00002   \n",
       "2       LBQCPDB_000003   AP00003   \n",
       "3       LBQCPDB_000004   AP00004   \n",
       "4       LBQCPDB_000005   AP00005   \n",
       "...                ...       ...   \n",
       "321820  LBQCPDB_321821      1848   \n",
       "321821  LBQCPDB_321822      1849   \n",
       "321822  LBQCPDB_321823      1850   \n",
       "321823  LBQCPDB_321824      1851   \n",
       "321824  LBQCPDB_321825      1852   \n",
       "\n",
       "                                                 Sequence  \\\n",
       "0                       GLWSKIKEVGKEAAKAAAKAAGKAALGAVSEAV   \n",
       "1                      YVPLPNVPQPGRRPFPTFPGQGPFNPKIKWPQGY   \n",
       "2       DGVKLCDVPSGTWSGHCGSSSKCSQQCKDREHFAYGGACHYQFPSV...   \n",
       "3       NLCERASLTWTGNCGNTGHCDTQCRNWESAKHGACHKRGNWKCFCYFDC   \n",
       "4                      VFIDILDKVENAIHNAAQVGIGFAKPFEKLINPK   \n",
       "...                                                   ...   \n",
       "321820                                                NaN   \n",
       "321821  FPTIPLSRLFDNAMLRAHRLHQLAFDTYQEFEEAYIPKEQKYSFLQ...   \n",
       "321822  FPTIPLSRLFDNAMLRAHRLHQLAFDTYQEFEEAYIPKEQKYSFLQ...   \n",
       "321823  AIRRYYLGAVELSWDYRQSELLRELHVDTRFPATAPGALPLGPSVL...   \n",
       "321824                                                NaN   \n",
       "\n",
       "                                                 Activity Source PDB  \\\n",
       "0       Anti-Gram+ & Gram-, Antifungal, candidacidal, ...       APD3   \n",
       "1                                      Anti-Gram+ & Gram-       APD3   \n",
       "2                                              Antifungal       APD3   \n",
       "3                                  Anti-Gram+, Antifungal       APD3   \n",
       "4                                              Anti-Gram+       APD3   \n",
       "...                                                   ...        ...   \n",
       "321820                                          Not Found      THPdb   \n",
       "321821                                          Not Found      THPdb   \n",
       "321822                                          Not Found      THPdb   \n",
       "321823                                          Not Found      THPdb   \n",
       "321824                                          Not Found      THPdb   \n",
       "\n",
       "              DOI  \n",
       "0       Not Found  \n",
       "1       Not Found  \n",
       "2       Not Found  \n",
       "3       Not Found  \n",
       "4       Not Found  \n",
       "...           ...  \n",
       "321820  Not Found  \n",
       "321821  Not Found  \n",
       "321822  Not Found  \n",
       "321823  Not Found  \n",
       "321824  Not Found  \n",
       "\n",
       "[321825 rows x 6 columns]"
      ]
     },
     "execution_count": 17,
     "metadata": {},
     "output_type": "execute_result"
    }
   ],
   "source": [
    "df"
   ]
  }
 ],
 "metadata": {
  "kernelspec": {
   "display_name": "Python 3",
   "language": "python",
   "name": "python3"
  },
  "language_info": {
   "codemirror_mode": {
    "name": "ipython",
    "version": 3
   },
   "file_extension": ".py",
   "mimetype": "text/x-python",
   "name": "python",
   "nbconvert_exporter": "python",
   "pygments_lexer": "ipython3",
   "version": "3.8.10"
  }
 },
 "nbformat": 4,
 "nbformat_minor": 5
}
