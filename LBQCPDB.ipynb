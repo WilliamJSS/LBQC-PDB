{
 "cells": [
  {
   "cell_type": "code",
   "execution_count": 1,
   "metadata": {},
   "outputs": [],
   "source": [
    "from tqdm import tqdm\n",
    "import numpy as np\n",
    "import pandas as pd\n",
    "import polars as pl\n",
    "import utils\n",
    "import os"
   ]
  },
  {
   "cell_type": "code",
   "execution_count": 2,
   "metadata": {},
   "outputs": [],
   "source": [
    "path = os.getcwd()\n",
    "pdbs = ['APD3', 'CancerPPD', 'DBBASP', 'FermFooDb', 'MAHMI', 'PepBDB', 'THPdb']"
   ]
  },
  {
   "cell_type": "code",
   "execution_count": 20,
   "metadata": {},
   "outputs": [],
   "source": [
    "dfs = {}\n",
    "for pdb in pdbs:\n",
    "    dfs[pdb] = pd.read_csv(f'{path}/PDBs_releases/{pdb}.csv')"
   ]
  },
  {
   "cell_type": "code",
   "execution_count": 21,
   "metadata": {},
   "outputs": [],
   "source": [
    "count_id = 1\n",
    "data = {\n",
    "    'LBQCPDB ID': [],\n",
    "    'Source ID': [],\n",
    "    'Sequence': [],\n",
    "    'Activity': [],\n",
    "    'Source PDB': [],\n",
    "    'DOI': []\n",
    "}"
   ]
  },
  {
   "cell_type": "code",
   "execution_count": 22,
   "metadata": {},
   "outputs": [
    {
     "name": "stderr",
     "output_type": "stream",
     "text": [
      "100%|██████████| 3579/3579 [00:00<00:00, 8141.32it/s]\n"
     ]
    }
   ],
   "source": [
    "# APD3\n",
    "for i in tqdm(range(0, len(dfs['APD3']))):\n",
    "    line = dfs['APD3'].loc[i]\n",
    "    data['LBQCPDB ID'].append('LBQCPDB_{:6}'.format(count_id).replace(' ', '0'))\n",
    "    data['Source ID'].append(line['APD ID'])\n",
    "    data['Sequence'].append(line['Sequence'])\n",
    "    data['Activity'].append(line['Activity'])\n",
    "    data['Source PDB'].append('APD3')\n",
    "    data['DOI'].append(line['DOI'])\n",
    "    count_id += 1"
   ]
  },
  {
   "cell_type": "code",
   "execution_count": 23,
   "metadata": {},
   "outputs": [
    {
     "name": "stderr",
     "output_type": "stream",
     "text": [
      "100%|██████████| 5068/5068 [00:00<00:00, 8561.39it/s]\n"
     ]
    }
   ],
   "source": [
    "# CancerPPD\n",
    "for i in tqdm(range(0, len(dfs['CancerPPD']))):\n",
    "    line = dfs['CancerPPD'].loc[i]\n",
    "    data['LBQCPDB ID'].append('LBQCPDB_{:6}'.format(count_id).replace(' ', '0'))\n",
    "    data['Source ID'].append('Not Found')\n",
    "    data['Sequence'].append(line['SEQUENCE'])\n",
    "    data['Activity'].append(line['NATURE'])\n",
    "    data['Source PDB'].append('CancerPPD')\n",
    "    data['DOI'].append(line['DOI'])\n",
    "    count_id += 1"
   ]
  },
  {
   "cell_type": "code",
   "execution_count": 24,
   "metadata": {},
   "outputs": [
    {
     "name": "stderr",
     "output_type": "stream",
     "text": [
      "100%|██████████| 20523/20523 [00:01<00:00, 16215.29it/s]\n"
     ]
    }
   ],
   "source": [
    "# DBBASP\n",
    "for i in tqdm(range(0, len(dfs['DBBASP']))):\n",
    "    line = dfs['DBBASP'].loc[i]\n",
    "    data['LBQCPDB ID'].append('LBQCPDB_{:6}'.format(count_id).replace(' ', '0'))\n",
    "    data['Source ID'].append(line['ID'])\n",
    "    data['Sequence'].append(line['SEQUENCE'])\n",
    "    data['Activity'].append('Not Found')\n",
    "    data['Source PDB'].append('DBBASP')\n",
    "    #data['DOI'].append(line['DOI'])\n",
    "    data['DOI'].append('Not Found')\n",
    "    count_id += 1"
   ]
  },
  {
   "cell_type": "code",
   "execution_count": 25,
   "metadata": {},
   "outputs": [
    {
     "name": "stderr",
     "output_type": "stream",
     "text": [
      "100%|██████████| 2205/2205 [00:00<00:00, 7998.90it/s]\n"
     ]
    }
   ],
   "source": [
    "# FermFooDb\n",
    "for i in tqdm(range(0, len(dfs['FermFooDb']))):\n",
    "    line = dfs['FermFooDb'].loc[i]\n",
    "    data['LBQCPDB ID'].append('LBQCPDB_{:6}'.format(count_id).replace(' ', '0'))\n",
    "    data['Source ID'].append(line['Link'].split('=')[1])\n",
    "    data['Sequence'].append(line['Peptide Sequence'])\n",
    "    data['Activity'].append(line['Activity'])\n",
    "    data['Source PDB'].append('FermFooDb')\n",
    "    data['DOI'].append(line['DOI'])\n",
    "    count_id += 1"
   ]
  },
  {
   "cell_type": "code",
   "execution_count": 26,
   "metadata": {},
   "outputs": [
    {
     "name": "stderr",
     "output_type": "stream",
     "text": [
      "100%|██████████| 276400/276400 [00:30<00:00, 9079.44it/s]\n"
     ]
    }
   ],
   "source": [
    "# MAHMI\n",
    "for i in tqdm(range(0, len(dfs['MAHMI']))):\n",
    "    line = dfs['MAHMI'].loc[i]\n",
    "    data['LBQCPDB ID'].append('LBQCPDB_{:6}'.format(count_id).replace(' ', '0'))\n",
    "    data['Source ID'].append(line['ID'])\n",
    "    data['Sequence'].append(line['SEQUENCE'])\n",
    "    data['Activity'].append(line['BIOACTIVITY'])\n",
    "    data['Source PDB'].append('MAHMI')\n",
    "    data['DOI'].append('Not Found')\n",
    "    count_id += 1"
   ]
  },
  {
   "cell_type": "code",
   "execution_count": 27,
   "metadata": {},
   "outputs": [
    {
     "name": "stderr",
     "output_type": "stream",
     "text": [
      "100%|██████████| 13301/13301 [00:01<00:00, 8673.47it/s]\n"
     ]
    }
   ],
   "source": [
    "# PepBDB\n",
    "for i in tqdm(range(0, len(dfs['PepBDB']))):\n",
    "    line = dfs['PepBDB'].loc[i]\n",
    "    data['LBQCPDB ID'].append('LBQCPDB_{:6}'.format(count_id).replace(' ', '0'))\n",
    "    data['Source ID'].append(line['Peptide ID'])\n",
    "    data['Sequence'].append(line['Sequence'])\n",
    "    data['Activity'].append('Not Found')\n",
    "    data['Source PDB'].append('PepBDB')\n",
    "    data['DOI'].append('Not Found')\n",
    "    count_id += 1"
   ]
  },
  {
   "cell_type": "code",
   "execution_count": 28,
   "metadata": {},
   "outputs": [
    {
     "name": "stderr",
     "output_type": "stream",
     "text": [
      "100%|██████████| 852/852 [00:00<00:00, 8148.14it/s]\n"
     ]
    }
   ],
   "source": [
    "# THPdb\n",
    "for i in tqdm(range(0, len(dfs['THPdb']))):\n",
    "    line = dfs['THPdb'].loc[i]\n",
    "    data['LBQCPDB ID'].append('LBQCPDB_{:6}'.format(count_id).replace(' ', '0'))\n",
    "    data['Source ID'].append(line['ID'])\n",
    "    data['Sequence'].append(line['Sequence'])\n",
    "    data['Activity'].append('Not Found')\n",
    "    data['Source PDB'].append('THPdb')\n",
    "    data['DOI'].append('Not Found')\n",
    "    count_id += 1"
   ]
  },
  {
   "cell_type": "code",
   "execution_count": 29,
   "metadata": {},
   "outputs": [],
   "source": [
    "df = pl.DataFrame(data, nan_to_null=True)"
   ]
  },
  {
   "cell_type": "code",
   "execution_count": 34,
   "metadata": {},
   "outputs": [],
   "source": [
    "replaces = {\n",
    "    ' & Gram-': ', Anti-Gram-',\n",
    "    ';': ',',\n",
    "    'and ': ',',\n",
    "    'CasoxinA': 'Casoxin A',\n",
    "    ',,': ',',\n",
    "    'Anatgonist': 'Antagonist',\n",
    "    'Antimicrobial': 'Anti-microbial',\n",
    "    'Antihypertensive': 'Anti-hypertensive'\n",
    "}\n",
    "\n",
    "def fix_activities(activity):\n",
    "    # Call function 'multi_replace' from utils.py\n",
    "    line = utils.multi_replace(activity, replaces)\n",
    "    \n",
    "    # Resolve null activities\n",
    "    if line in ['', None, 'Not Found', 'NA', 'NaN', 'N.A', 'N.A.']:\n",
    "        return 'Not Found'\n",
    "    \n",
    "    # Resolve activites relates from attenuate, anti-microbial and antibacterial\n",
    "    if 'Attenuate' in line or 'against' in line:\n",
    "        return line[0].upper() + line[1:].replace(',', ', ')\n",
    "        \n",
    "    # Resolve other activities\n",
    "    list_atv = []\n",
    "    for atv in line.split(','):\n",
    "        atv = atv.strip()\n",
    "        list_atv.append(atv[0].upper() + atv[1:])\n",
    "    \n",
    "    return '|'.join(list_atv)"
   ]
  },
  {
   "cell_type": "code",
   "execution_count": 35,
   "metadata": {},
   "outputs": [
    {
     "ename": "PanicException",
     "evalue": "python function failed IndexError: string index out of range",
     "output_type": "error",
     "traceback": [
      "\u001b[0;31m---------------------------------------------------------------------------\u001b[0m",
      "\u001b[0;31mPanicException\u001b[0m                            Traceback (most recent call last)",
      "\u001b[0;32m~/.local/lib/python3.8/site-packages/polars/internals/expr/expr.py\u001b[0m in \u001b[0;36mwrap_f\u001b[0;34m(x)\u001b[0m\n\u001b[1;32m   3370\u001b[0m \u001b[0;34m\u001b[0m\u001b[0m\n\u001b[1;32m   3371\u001b[0m             \u001b[0;32mdef\u001b[0m \u001b[0mwrap_f\u001b[0m\u001b[0;34m(\u001b[0m\u001b[0mx\u001b[0m\u001b[0;34m:\u001b[0m \u001b[0mpli\u001b[0m\u001b[0;34m.\u001b[0m\u001b[0mSeries\u001b[0m\u001b[0;34m)\u001b[0m \u001b[0;34m->\u001b[0m \u001b[0mpli\u001b[0m\u001b[0;34m.\u001b[0m\u001b[0mSeries\u001b[0m\u001b[0;34m:\u001b[0m  \u001b[0;31m# pragma: no cover\u001b[0m\u001b[0;34m\u001b[0m\u001b[0;34m\u001b[0m\u001b[0m\n\u001b[0;32m-> 3372\u001b[0;31m                 return x.apply(\n\u001b[0m\u001b[1;32m   3373\u001b[0m                     \u001b[0mfunction\u001b[0m\u001b[0;34m,\u001b[0m \u001b[0mreturn_dtype\u001b[0m\u001b[0;34m=\u001b[0m\u001b[0mreturn_dtype\u001b[0m\u001b[0;34m,\u001b[0m \u001b[0mskip_nulls\u001b[0m\u001b[0;34m=\u001b[0m\u001b[0mskip_nulls\u001b[0m\u001b[0;34m\u001b[0m\u001b[0;34m\u001b[0m\u001b[0m\n\u001b[1;32m   3374\u001b[0m                 )\n",
      "\u001b[0;32m~/.local/lib/python3.8/site-packages/polars/utils.py\u001b[0m in \u001b[0;36mwrapper\u001b[0;34m(*args, **kwargs)\u001b[0m\n\u001b[1;32m    464\u001b[0m         \u001b[0;32mdef\u001b[0m \u001b[0mwrapper\u001b[0m\u001b[0;34m(\u001b[0m\u001b[0;34m*\u001b[0m\u001b[0margs\u001b[0m\u001b[0;34m:\u001b[0m \u001b[0mP\u001b[0m\u001b[0;34m.\u001b[0m\u001b[0margs\u001b[0m\u001b[0;34m,\u001b[0m \u001b[0;34m**\u001b[0m\u001b[0mkwargs\u001b[0m\u001b[0;34m:\u001b[0m \u001b[0mP\u001b[0m\u001b[0;34m.\u001b[0m\u001b[0mkwargs\u001b[0m\u001b[0;34m)\u001b[0m \u001b[0;34m->\u001b[0m \u001b[0mT\u001b[0m\u001b[0;34m:\u001b[0m\u001b[0;34m\u001b[0m\u001b[0;34m\u001b[0m\u001b[0m\n\u001b[1;32m    465\u001b[0m             \u001b[0m_rename_kwargs\u001b[0m\u001b[0;34m(\u001b[0m\u001b[0mfunction\u001b[0m\u001b[0;34m.\u001b[0m\u001b[0m__name__\u001b[0m\u001b[0;34m,\u001b[0m \u001b[0mkwargs\u001b[0m\u001b[0;34m,\u001b[0m \u001b[0maliases\u001b[0m\u001b[0;34m)\u001b[0m\u001b[0;34m\u001b[0m\u001b[0;34m\u001b[0m\u001b[0m\n\u001b[0;32m--> 466\u001b[0;31m             \u001b[0;32mreturn\u001b[0m \u001b[0mfunction\u001b[0m\u001b[0;34m(\u001b[0m\u001b[0;34m*\u001b[0m\u001b[0margs\u001b[0m\u001b[0;34m,\u001b[0m \u001b[0;34m**\u001b[0m\u001b[0mkwargs\u001b[0m\u001b[0;34m)\u001b[0m\u001b[0;34m\u001b[0m\u001b[0;34m\u001b[0m\u001b[0m\n\u001b[0m\u001b[1;32m    467\u001b[0m \u001b[0;34m\u001b[0m\u001b[0m\n\u001b[1;32m    468\u001b[0m         \u001b[0;32mreturn\u001b[0m \u001b[0mwrapper\u001b[0m\u001b[0;34m\u001b[0m\u001b[0;34m\u001b[0m\u001b[0m\n",
      "\u001b[0;32m~/.local/lib/python3.8/site-packages/polars/utils.py\u001b[0m in \u001b[0;36mwrapper\u001b[0;34m(*args, **kwargs)\u001b[0m\n\u001b[1;32m    529\u001b[0m             \u001b[0;32mif\u001b[0m \u001b[0mlen\u001b[0m\u001b[0;34m(\u001b[0m\u001b[0margs\u001b[0m\u001b[0;34m)\u001b[0m \u001b[0;34m>\u001b[0m \u001b[0mnum_allowed_args\u001b[0m\u001b[0;34m:\u001b[0m\u001b[0;34m\u001b[0m\u001b[0;34m\u001b[0m\u001b[0m\n\u001b[1;32m    530\u001b[0m                 \u001b[0mwarnings\u001b[0m\u001b[0;34m.\u001b[0m\u001b[0mwarn\u001b[0m\u001b[0;34m(\u001b[0m\u001b[0mmsg\u001b[0m\u001b[0;34m,\u001b[0m \u001b[0mDeprecationWarning\u001b[0m\u001b[0;34m,\u001b[0m \u001b[0mstacklevel\u001b[0m\u001b[0;34m=\u001b[0m\u001b[0;36m2\u001b[0m\u001b[0;34m)\u001b[0m\u001b[0;34m\u001b[0m\u001b[0;34m\u001b[0m\u001b[0m\n\u001b[0;32m--> 531\u001b[0;31m             \u001b[0;32mreturn\u001b[0m \u001b[0mfunction\u001b[0m\u001b[0;34m(\u001b[0m\u001b[0;34m*\u001b[0m\u001b[0margs\u001b[0m\u001b[0;34m,\u001b[0m \u001b[0;34m**\u001b[0m\u001b[0mkwargs\u001b[0m\u001b[0;34m)\u001b[0m\u001b[0;34m\u001b[0m\u001b[0;34m\u001b[0m\u001b[0m\n\u001b[0m\u001b[1;32m    532\u001b[0m \u001b[0;34m\u001b[0m\u001b[0m\n\u001b[1;32m    533\u001b[0m         \u001b[0mwrapper\u001b[0m\u001b[0;34m.\u001b[0m\u001b[0m__signature__\u001b[0m \u001b[0;34m=\u001b[0m \u001b[0mnew_sig\u001b[0m  \u001b[0;31m# type: ignore[attr-defined]\u001b[0m\u001b[0;34m\u001b[0m\u001b[0;34m\u001b[0m\u001b[0m\n",
      "\u001b[0;32m~/.local/lib/python3.8/site-packages/polars/internals/series/series.py\u001b[0m in \u001b[0;36mapply\u001b[0;34m(self, function, return_dtype, skip_nulls)\u001b[0m\n\u001b[1;32m   3834\u001b[0m         \u001b[0;32melse\u001b[0m\u001b[0;34m:\u001b[0m\u001b[0;34m\u001b[0m\u001b[0;34m\u001b[0m\u001b[0m\n\u001b[1;32m   3835\u001b[0m             \u001b[0mpl_return_dtype\u001b[0m \u001b[0;34m=\u001b[0m \u001b[0mpy_type_to_dtype\u001b[0m\u001b[0;34m(\u001b[0m\u001b[0mreturn_dtype\u001b[0m\u001b[0;34m)\u001b[0m\u001b[0;34m\u001b[0m\u001b[0;34m\u001b[0m\u001b[0m\n\u001b[0;32m-> 3836\u001b[0;31m         \u001b[0;32mreturn\u001b[0m \u001b[0mwrap_s\u001b[0m\u001b[0;34m(\u001b[0m\u001b[0mself\u001b[0m\u001b[0;34m.\u001b[0m\u001b[0m_s\u001b[0m\u001b[0;34m.\u001b[0m\u001b[0mapply_lambda\u001b[0m\u001b[0;34m(\u001b[0m\u001b[0mfunction\u001b[0m\u001b[0;34m,\u001b[0m \u001b[0mpl_return_dtype\u001b[0m\u001b[0;34m,\u001b[0m \u001b[0mskip_nulls\u001b[0m\u001b[0;34m)\u001b[0m\u001b[0;34m)\u001b[0m\u001b[0;34m\u001b[0m\u001b[0;34m\u001b[0m\u001b[0m\n\u001b[0m\u001b[1;32m   3837\u001b[0m \u001b[0;34m\u001b[0m\u001b[0m\n\u001b[1;32m   3838\u001b[0m     \u001b[0;32mdef\u001b[0m \u001b[0mshift\u001b[0m\u001b[0;34m(\u001b[0m\u001b[0mself\u001b[0m\u001b[0;34m,\u001b[0m \u001b[0mperiods\u001b[0m\u001b[0;34m:\u001b[0m \u001b[0mint\u001b[0m \u001b[0;34m=\u001b[0m \u001b[0;36m1\u001b[0m\u001b[0;34m)\u001b[0m \u001b[0;34m->\u001b[0m \u001b[0mSeries\u001b[0m\u001b[0;34m:\u001b[0m\u001b[0;34m\u001b[0m\u001b[0;34m\u001b[0m\u001b[0m\n",
      "\u001b[0;31mPanicException\u001b[0m: python function failed IndexError: string index out of range"
     ]
    },
    {
     "ename": "PanicException",
     "evalue": "Unwrapped panic from Python code",
     "output_type": "error",
     "traceback": [
      "\u001b[0;31m---------------------------------------------------------------------------\u001b[0m",
      "\u001b[0;31mPanicException\u001b[0m                            Traceback (most recent call last)",
      "\u001b[0;32m<ipython-input-35-fd705f30d126>\u001b[0m in \u001b[0;36m<module>\u001b[0;34m\u001b[0m\n\u001b[1;32m      1\u001b[0m \u001b[0;31m# Fix Activity column in DataFrame\u001b[0m\u001b[0;34m\u001b[0m\u001b[0;34m\u001b[0m\u001b[0;34m\u001b[0m\u001b[0m\n\u001b[0;32m----> 2\u001b[0;31m \u001b[0mdf\u001b[0m \u001b[0;34m=\u001b[0m \u001b[0mdf\u001b[0m\u001b[0;34m.\u001b[0m\u001b[0mwith_columns\u001b[0m\u001b[0;34m(\u001b[0m\u001b[0mpl\u001b[0m\u001b[0;34m.\u001b[0m\u001b[0mcol\u001b[0m\u001b[0;34m(\u001b[0m\u001b[0;34m'Activity'\u001b[0m\u001b[0;34m)\u001b[0m\u001b[0;34m.\u001b[0m\u001b[0mapply\u001b[0m\u001b[0;34m(\u001b[0m\u001b[0mfix_activities\u001b[0m\u001b[0;34m)\u001b[0m\u001b[0;34m)\u001b[0m\u001b[0;34m\u001b[0m\u001b[0;34m\u001b[0m\u001b[0m\n\u001b[0m",
      "\u001b[0;32m~/.local/lib/python3.8/site-packages/polars/internals/dataframe/frame.py\u001b[0m in \u001b[0;36mwith_columns\u001b[0;34m(self, exprs, *more_exprs, **named_exprs)\u001b[0m\n\u001b[1;32m   6542\u001b[0m         \"\"\"\n\u001b[1;32m   6543\u001b[0m         return self._from_pydf(\n\u001b[0;32m-> 6544\u001b[0;31m             \u001b[0mself\u001b[0m\u001b[0;34m.\u001b[0m\u001b[0mlazy\u001b[0m\u001b[0;34m(\u001b[0m\u001b[0;34m)\u001b[0m\u001b[0;34m\u001b[0m\u001b[0;34m\u001b[0m\u001b[0m\n\u001b[0m\u001b[1;32m   6545\u001b[0m             \u001b[0;34m.\u001b[0m\u001b[0mwith_columns\u001b[0m\u001b[0;34m(\u001b[0m\u001b[0mexprs\u001b[0m\u001b[0;34m,\u001b[0m \u001b[0;34m*\u001b[0m\u001b[0mmore_exprs\u001b[0m\u001b[0;34m,\u001b[0m \u001b[0;34m**\u001b[0m\u001b[0mnamed_exprs\u001b[0m\u001b[0;34m)\u001b[0m\u001b[0;34m\u001b[0m\u001b[0;34m\u001b[0m\u001b[0m\n\u001b[1;32m   6546\u001b[0m             \u001b[0;34m.\u001b[0m\u001b[0mcollect\u001b[0m\u001b[0;34m(\u001b[0m\u001b[0mno_optimization\u001b[0m\u001b[0;34m=\u001b[0m\u001b[0;32mTrue\u001b[0m\u001b[0;34m)\u001b[0m\u001b[0;34m\u001b[0m\u001b[0;34m\u001b[0m\u001b[0m\n",
      "\u001b[0;32m~/.local/lib/python3.8/site-packages/polars/internals/lazyframe/frame.py\u001b[0m in \u001b[0;36mcollect\u001b[0;34m(self, type_coercion, predicate_pushdown, projection_pushdown, simplify_expression, no_optimization, slice_pushdown, common_subplan_elimination, streaming)\u001b[0m\n\u001b[1;32m   1428\u001b[0m             \u001b[0mstreaming\u001b[0m\u001b[0;34m,\u001b[0m\u001b[0;34m\u001b[0m\u001b[0;34m\u001b[0m\u001b[0m\n\u001b[1;32m   1429\u001b[0m         )\n\u001b[0;32m-> 1430\u001b[0;31m         \u001b[0;32mreturn\u001b[0m \u001b[0mpli\u001b[0m\u001b[0;34m.\u001b[0m\u001b[0mwrap_df\u001b[0m\u001b[0;34m(\u001b[0m\u001b[0mldf\u001b[0m\u001b[0;34m.\u001b[0m\u001b[0mcollect\u001b[0m\u001b[0;34m(\u001b[0m\u001b[0;34m)\u001b[0m\u001b[0;34m)\u001b[0m\u001b[0;34m\u001b[0m\u001b[0;34m\u001b[0m\u001b[0m\n\u001b[0m\u001b[1;32m   1431\u001b[0m \u001b[0;34m\u001b[0m\u001b[0m\n\u001b[1;32m   1432\u001b[0m     def sink_parquet(\n",
      "\u001b[0;31mPanicException\u001b[0m: Unwrapped panic from Python code"
     ]
    }
   ],
   "source": [
    "# Fix Activity column in DataFrame\n",
    "df = df.with_columns(pl.col('Activity').apply(fix_activities))"
   ]
  },
  {
   "cell_type": "code",
   "execution_count": 36,
   "metadata": {},
   "outputs": [
    {
     "name": "stdout",
     "output_type": "stream",
     "text": [
      "Save files in:\n",
      "/home/pcbio/Área de Trabalho/William/LBQC-PDB/releases/LBQCPDB_2023_03_13.csv\n",
      "/home/pcbio/Área de Trabalho/William/LBQC-PDB/LBQCPDB.csv\n"
     ]
    }
   ],
   "source": [
    "utils.pl_to_csv(df, path, 'LBQCPDB')"
   ]
  }
 ],
 "metadata": {
  "kernelspec": {
   "display_name": "Python 3",
   "language": "python",
   "name": "python3"
  },
  "language_info": {
   "codemirror_mode": {
    "name": "ipython",
    "version": 3
   },
   "file_extension": ".py",
   "mimetype": "text/x-python",
   "name": "python",
   "nbconvert_exporter": "python",
   "pygments_lexer": "ipython3",
   "version": "3.8.10"
  }
 },
 "nbformat": 4,
 "nbformat_minor": 5
}
