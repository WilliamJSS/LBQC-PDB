{
 "cells": [
  {
   "cell_type": "code",
   "execution_count": 1,
   "metadata": {},
   "outputs": [],
   "source": [
    "from datetime import datetime\n",
    "from tqdm import tqdm\n",
    "import pandas as pd\n",
    "import os"
   ]
  },
  {
   "cell_type": "code",
   "execution_count": 2,
   "metadata": {},
   "outputs": [],
   "source": [
    "path = os.getcwd()\n",
    "pdbs = ['APD3', 'CancerPPD', 'DBBASP', 'FermFooDb', 'MAHMI', 'PepBDB', 'THPdb']"
   ]
  },
  {
   "cell_type": "code",
   "execution_count": 3,
   "metadata": {},
   "outputs": [],
   "source": [
    "dfs = {}\n",
    "for pdb in pdbs:\n",
    "    dfs[pdb] = pd.read_csv(f'{path}/PDBs/{pdb}.csv')"
   ]
  },
  {
   "cell_type": "code",
   "execution_count": 4,
   "metadata": {},
   "outputs": [],
   "source": [
    "count_id = 1\n",
    "data = {\n",
    "    'LBQCPDB ID': [],\n",
    "    'Source ID': [],\n",
    "    'Sequence': [],\n",
    "    'Activity': [],\n",
    "    'Source PDB': [],\n",
    "    'DOI': []\n",
    "}"
   ]
  },
  {
   "cell_type": "code",
   "execution_count": 5,
   "metadata": {},
   "outputs": [
    {
     "name": "stderr",
     "output_type": "stream",
     "text": [
      "100%|██████████| 3579/3579 [00:00<00:00, 7321.47it/s]\n"
     ]
    }
   ],
   "source": [
    "# APD3\n",
    "for i in tqdm(range(0, len(dfs['APD3']))):\n",
    "    line = dfs['APD3'].loc[i]\n",
    "    data['LBQCPDB ID'].append('LBQCPDB_{:6}'.format(count_id).replace(' ', '0'))\n",
    "    data['Source ID'].append(line['APD ID'])\n",
    "    data['Sequence'].append(line['Sequence'])\n",
    "    data['Activity'].append(line['Activity'])\n",
    "    data['Source PDB'].append('APD3')\n",
    "    data['DOI'].append(line['DOI'])\n",
    "    count_id += 1"
   ]
  },
  {
   "cell_type": "code",
   "execution_count": 6,
   "metadata": {},
   "outputs": [
    {
     "name": "stderr",
     "output_type": "stream",
     "text": [
      "100%|██████████| 5068/5068 [00:00<00:00, 8750.22it/s]\n"
     ]
    }
   ],
   "source": [
    "# CancerPPD\n",
    "for i in tqdm(range(0, len(dfs['CancerPPD']))):\n",
    "    line = dfs['CancerPPD'].loc[i]\n",
    "    data['LBQCPDB ID'].append('LBQCPDB_{:6}'.format(count_id).replace(' ', '0'))\n",
    "    data['Source ID'].append('Not Found')\n",
    "    data['Sequence'].append(line['SEQUENCE'])\n",
    "    data['Activity'].append('Not Found')\n",
    "    data['Source PDB'].append('CancerPPD')\n",
    "    data['DOI'].append(line['DOI'])\n",
    "    count_id += 1"
   ]
  },
  {
   "cell_type": "code",
   "execution_count": 7,
   "metadata": {},
   "outputs": [
    {
     "name": "stderr",
     "output_type": "stream",
     "text": [
      "100%|██████████| 20420/20420 [00:02<00:00, 9121.54it/s]\n"
     ]
    }
   ],
   "source": [
    "# DBBASP\n",
    "for i in tqdm(range(0, len(dfs['DBBASP']))):\n",
    "    line = dfs['DBBASP'].loc[i]\n",
    "    data['LBQCPDB ID'].append('LBQCPDB_{:6}'.format(count_id).replace(' ', '0'))\n",
    "    data['Source ID'].append(line['ID'])\n",
    "    data['Sequence'].append(line['SEQUENCE'])\n",
    "    data['Activity'].append('Not Found')\n",
    "    data['Source PDB'].append('DBBASP')\n",
    "    data['DOI'].append(line['DOI'])\n",
    "    count_id += 1"
   ]
  },
  {
   "cell_type": "code",
   "execution_count": 8,
   "metadata": {},
   "outputs": [
    {
     "name": "stderr",
     "output_type": "stream",
     "text": [
      "100%|██████████| 2205/2205 [00:00<00:00, 7975.96it/s]\n"
     ]
    }
   ],
   "source": [
    "# FermFooDb\n",
    "for i in tqdm(range(0, len(dfs['FermFooDb']))):\n",
    "    line = dfs['FermFooDb'].loc[i]\n",
    "    data['LBQCPDB ID'].append('LBQCPDB_{:6}'.format(count_id).replace(' ', '0'))\n",
    "    data['Source ID'].append(line['Link'].split('=')[1])\n",
    "    data['Sequence'].append(line['Peptide Sequence'])\n",
    "    data['Activity'].append(line['Activity'])\n",
    "    data['Source PDB'].append('FermFooDb')\n",
    "    data['DOI'].append(line['DOI'])\n",
    "    count_id += 1"
   ]
  },
  {
   "cell_type": "code",
   "execution_count": 9,
   "metadata": {},
   "outputs": [
    {
     "name": "stderr",
     "output_type": "stream",
     "text": [
      "100%|██████████| 276400/276400 [00:30<00:00, 9138.58it/s]\n"
     ]
    }
   ],
   "source": [
    "# MAHMI\n",
    "for i in tqdm(range(0, len(dfs['MAHMI']))):\n",
    "    line = dfs['MAHMI'].loc[i]\n",
    "    data['LBQCPDB ID'].append('LBQCPDB_{:6}'.format(count_id).replace(' ', '0'))\n",
    "    data['Source ID'].append(line['ID'])\n",
    "    data['Sequence'].append(line['SEQUENCE'])\n",
    "    data['Activity'].append(line['BIOACTIVITY'])\n",
    "    data['Source PDB'].append('MAHMI')\n",
    "    data['DOI'].append('Not Found')\n",
    "    count_id += 1"
   ]
  },
  {
   "cell_type": "code",
   "execution_count": 10,
   "metadata": {},
   "outputs": [
    {
     "name": "stderr",
     "output_type": "stream",
     "text": [
      "100%|██████████| 13301/13301 [00:01<00:00, 8652.20it/s]\n"
     ]
    }
   ],
   "source": [
    "# PepBDB\n",
    "for i in tqdm(range(0, len(dfs['PepBDB']))):\n",
    "    line = dfs['PepBDB'].loc[i]\n",
    "    data['LBQCPDB ID'].append('LBQCPDB_{:6}'.format(count_id).replace(' ', '0'))\n",
    "    data['Source ID'].append(line['Peptide ID'])\n",
    "    data['Sequence'].append(line['Sequence'])\n",
    "    data['Activity'].append('Not Found')\n",
    "    data['Source PDB'].append('PepBDB')\n",
    "    data['DOI'].append('Not Found')\n",
    "    count_id += 1"
   ]
  },
  {
   "cell_type": "code",
   "execution_count": 11,
   "metadata": {},
   "outputs": [
    {
     "name": "stderr",
     "output_type": "stream",
     "text": [
      "100%|██████████| 852/852 [00:00<00:00, 8869.96it/s]\n"
     ]
    }
   ],
   "source": [
    "# THPdb\n",
    "for i in tqdm(range(0, len(dfs['THPdb']))):\n",
    "    line = dfs['THPdb'].loc[i]\n",
    "    data['LBQCPDB ID'].append('LBQCPDB_{:6}'.format(count_id).replace(' ', '0'))\n",
    "    data['Source ID'].append(line['ID'])\n",
    "    data['Sequence'].append(line['Sequence'])\n",
    "    data['Activity'].append('Not Found')\n",
    "    data['Source PDB'].append('THPdb')\n",
    "    data['DOI'].append('Not Found')\n",
    "    count_id += 1"
   ]
  },
  {
   "cell_type": "code",
   "execution_count": 12,
   "metadata": {},
   "outputs": [],
   "source": [
    "df = pd.DataFrame(data)"
   ]
  },
  {
   "cell_type": "code",
   "execution_count": 13,
   "metadata": {},
   "outputs": [],
   "source": [
    "dt = datetime.now()\n",
    "df.to_csv(f'{path}/PDBs/LBQCPDB_releases/LBQCPDB_{dt.strftime(\"%Y_%m_%d\")}.csv', index=False)\n",
    "df.to_csv(f'{path}/LBQCPDB.csv', index=False)"
   ]
  },
  {
   "cell_type": "code",
   "execution_count": 14,
   "metadata": {},
   "outputs": [
    {
     "data": {
      "text/html": [
       "<div>\n",
       "<style scoped>\n",
       "    .dataframe tbody tr th:only-of-type {\n",
       "        vertical-align: middle;\n",
       "    }\n",
       "\n",
       "    .dataframe tbody tr th {\n",
       "        vertical-align: top;\n",
       "    }\n",
       "\n",
       "    .dataframe thead th {\n",
       "        text-align: right;\n",
       "    }\n",
       "</style>\n",
       "<table border=\"1\" class=\"dataframe\">\n",
       "  <thead>\n",
       "    <tr style=\"text-align: right;\">\n",
       "      <th></th>\n",
       "      <th>LBQCPDB ID</th>\n",
       "      <th>Source ID</th>\n",
       "      <th>Sequence</th>\n",
       "      <th>Activity</th>\n",
       "      <th>Source PDB</th>\n",
       "      <th>DOI</th>\n",
       "    </tr>\n",
       "  </thead>\n",
       "  <tbody>\n",
       "    <tr>\n",
       "      <th>count</th>\n",
       "      <td>321825</td>\n",
       "      <td>321825</td>\n",
       "      <td>321710</td>\n",
       "      <td>320682</td>\n",
       "      <td>321825</td>\n",
       "      <td>321825</td>\n",
       "    </tr>\n",
       "    <tr>\n",
       "      <th>unique</th>\n",
       "      <td>321825</td>\n",
       "      <td>315908</td>\n",
       "      <td>304878</td>\n",
       "      <td>407</td>\n",
       "      <td>7</td>\n",
       "      <td>5088</td>\n",
       "    </tr>\n",
       "    <tr>\n",
       "      <th>top</th>\n",
       "      <td>LBQCPDB_000001</td>\n",
       "      <td>Not Found</td>\n",
       "      <td>GIVEQCCTSICSLYQLENYCN</td>\n",
       "      <td>Immunomodulatory</td>\n",
       "      <td>MAHMI</td>\n",
       "      <td>Not Found</td>\n",
       "    </tr>\n",
       "    <tr>\n",
       "      <th>freq</th>\n",
       "      <td>1</td>\n",
       "      <td>5068</td>\n",
       "      <td>244</td>\n",
       "      <td>183169</td>\n",
       "      <td>276400</td>\n",
       "      <td>296008</td>\n",
       "    </tr>\n",
       "  </tbody>\n",
       "</table>\n",
       "</div>"
      ],
      "text/plain": [
       "            LBQCPDB ID  Source ID               Sequence          Activity  \\\n",
       "count           321825     321825                 321710            320682   \n",
       "unique          321825     315908                 304878               407   \n",
       "top     LBQCPDB_000001  Not Found  GIVEQCCTSICSLYQLENYCN  Immunomodulatory   \n",
       "freq                 1       5068                    244            183169   \n",
       "\n",
       "       Source PDB        DOI  \n",
       "count      321825     321825  \n",
       "unique          7       5088  \n",
       "top         MAHMI  Not Found  \n",
       "freq       276400     296008  "
      ]
     },
     "execution_count": 14,
     "metadata": {},
     "output_type": "execute_result"
    }
   ],
   "source": [
    "df.describe()"
   ]
  },
  {
   "cell_type": "code",
   "execution_count": 20,
   "metadata": {},
   "outputs": [
    {
     "data": {
      "text/html": [
       "<div>\n",
       "<style scoped>\n",
       "    .dataframe tbody tr th:only-of-type {\n",
       "        vertical-align: middle;\n",
       "    }\n",
       "\n",
       "    .dataframe tbody tr th {\n",
       "        vertical-align: top;\n",
       "    }\n",
       "\n",
       "    .dataframe thead th {\n",
       "        text-align: right;\n",
       "    }\n",
       "</style>\n",
       "<table border=\"1\" class=\"dataframe\">\n",
       "  <thead>\n",
       "    <tr style=\"text-align: right;\">\n",
       "      <th></th>\n",
       "      <th>LBQCPDB ID</th>\n",
       "      <th>Source ID</th>\n",
       "      <th>Sequence</th>\n",
       "      <th>Activity</th>\n",
       "      <th>Source PDB</th>\n",
       "      <th>DOI</th>\n",
       "    </tr>\n",
       "  </thead>\n",
       "  <tbody>\n",
       "    <tr>\n",
       "      <th>29201</th>\n",
       "      <td>LBQCPDB_029202</td>\n",
       "      <td>FMDB135</td>\n",
       "      <td>LYQEPVLGPVRGPFPIIV</td>\n",
       "      <td>Immunomodulatory</td>\n",
       "      <td>FermFooDb</td>\n",
       "      <td>https://doi.org/10.1007/s00253-016-7414-y</td>\n",
       "    </tr>\n",
       "    <tr>\n",
       "      <th>29202</th>\n",
       "      <td>LBQCPDB_029203</td>\n",
       "      <td>FMDB136</td>\n",
       "      <td>LYQEPVLGPVRGPFPIIV</td>\n",
       "      <td>Immunomodulatory</td>\n",
       "      <td>FermFooDb</td>\n",
       "      <td>https://doi.org/10.1007/s00253-016-7414-y</td>\n",
       "    </tr>\n",
       "    <tr>\n",
       "      <th>29203</th>\n",
       "      <td>LBQCPDB_029204</td>\n",
       "      <td>FMDB137</td>\n",
       "      <td>LYQEPVLGPVRGPFPIIV</td>\n",
       "      <td>Immunomodulatory</td>\n",
       "      <td>FermFooDb</td>\n",
       "      <td>https://doi.org/10.1007/s00253-016-7414-y</td>\n",
       "    </tr>\n",
       "    <tr>\n",
       "      <th>29204</th>\n",
       "      <td>LBQCPDB_029205</td>\n",
       "      <td>FMDB138</td>\n",
       "      <td>LYQEPVLGPVRGPFPIIV</td>\n",
       "      <td>Immunomodulatory</td>\n",
       "      <td>FermFooDb</td>\n",
       "      <td>https://doi.org/10.1007/s00253-016-7414-y</td>\n",
       "    </tr>\n",
       "    <tr>\n",
       "      <th>29258</th>\n",
       "      <td>LBQCPDB_029259</td>\n",
       "      <td>FMDB192</td>\n",
       "      <td>QEPVPDPVRGLHP</td>\n",
       "      <td>Immunomodulatory</td>\n",
       "      <td>FermFooDb</td>\n",
       "      <td>Not Found</td>\n",
       "    </tr>\n",
       "    <tr>\n",
       "      <th>...</th>\n",
       "      <td>...</td>\n",
       "      <td>...</td>\n",
       "      <td>...</td>\n",
       "      <td>...</td>\n",
       "      <td>...</td>\n",
       "      <td>...</td>\n",
       "    </tr>\n",
       "    <tr>\n",
       "      <th>307667</th>\n",
       "      <td>LBQCPDB_307668</td>\n",
       "      <td>37790208</td>\n",
       "      <td>SGDITCYLGAV</td>\n",
       "      <td>Immunomodulatory</td>\n",
       "      <td>MAHMI</td>\n",
       "      <td>Not Found</td>\n",
       "    </tr>\n",
       "    <tr>\n",
       "      <th>307668</th>\n",
       "      <td>LBQCPDB_307669</td>\n",
       "      <td>36108688</td>\n",
       "      <td>QGTNCIRIRCY</td>\n",
       "      <td>Immunomodulatory</td>\n",
       "      <td>MAHMI</td>\n",
       "      <td>Not Found</td>\n",
       "    </tr>\n",
       "    <tr>\n",
       "      <th>307669</th>\n",
       "      <td>LBQCPDB_307670</td>\n",
       "      <td>33623027</td>\n",
       "      <td>MLSIIIPLYNK</td>\n",
       "      <td>Immunomodulatory</td>\n",
       "      <td>MAHMI</td>\n",
       "      <td>Not Found</td>\n",
       "    </tr>\n",
       "    <tr>\n",
       "      <th>307670</th>\n",
       "      <td>LBQCPDB_307671</td>\n",
       "      <td>29597671</td>\n",
       "      <td>TVRRESLELPNGNRIPDY</td>\n",
       "      <td>Immunomodulatory</td>\n",
       "      <td>MAHMI</td>\n",
       "      <td>Not Found</td>\n",
       "    </tr>\n",
       "    <tr>\n",
       "      <th>307671</th>\n",
       "      <td>LBQCPDB_307672</td>\n",
       "      <td>25633949</td>\n",
       "      <td>IPVYSYLM</td>\n",
       "      <td>Immunomodulatory</td>\n",
       "      <td>MAHMI</td>\n",
       "      <td>Not Found</td>\n",
       "    </tr>\n",
       "  </tbody>\n",
       "</table>\n",
       "<p>183169 rows × 6 columns</p>\n",
       "</div>"
      ],
      "text/plain": [
       "            LBQCPDB ID Source ID            Sequence          Activity  \\\n",
       "29201   LBQCPDB_029202   FMDB135  LYQEPVLGPVRGPFPIIV  Immunomodulatory   \n",
       "29202   LBQCPDB_029203   FMDB136  LYQEPVLGPVRGPFPIIV  Immunomodulatory   \n",
       "29203   LBQCPDB_029204   FMDB137  LYQEPVLGPVRGPFPIIV  Immunomodulatory   \n",
       "29204   LBQCPDB_029205   FMDB138  LYQEPVLGPVRGPFPIIV  Immunomodulatory   \n",
       "29258   LBQCPDB_029259   FMDB192       QEPVPDPVRGLHP  Immunomodulatory   \n",
       "...                ...       ...                 ...               ...   \n",
       "307667  LBQCPDB_307668  37790208         SGDITCYLGAV  Immunomodulatory   \n",
       "307668  LBQCPDB_307669  36108688         QGTNCIRIRCY  Immunomodulatory   \n",
       "307669  LBQCPDB_307670  33623027         MLSIIIPLYNK  Immunomodulatory   \n",
       "307670  LBQCPDB_307671  29597671  TVRRESLELPNGNRIPDY  Immunomodulatory   \n",
       "307671  LBQCPDB_307672  25633949            IPVYSYLM  Immunomodulatory   \n",
       "\n",
       "       Source PDB                                        DOI  \n",
       "29201   FermFooDb  https://doi.org/10.1007/s00253-016-7414-y  \n",
       "29202   FermFooDb  https://doi.org/10.1007/s00253-016-7414-y  \n",
       "29203   FermFooDb  https://doi.org/10.1007/s00253-016-7414-y  \n",
       "29204   FermFooDb  https://doi.org/10.1007/s00253-016-7414-y  \n",
       "29258   FermFooDb                                  Not Found  \n",
       "...           ...                                        ...  \n",
       "307667      MAHMI                                  Not Found  \n",
       "307668      MAHMI                                  Not Found  \n",
       "307669      MAHMI                                  Not Found  \n",
       "307670      MAHMI                                  Not Found  \n",
       "307671      MAHMI                                  Not Found  \n",
       "\n",
       "[183169 rows x 6 columns]"
      ]
     },
     "execution_count": 20,
     "metadata": {},
     "output_type": "execute_result"
    }
   ],
   "source": [
    "df.loc[df['Activity'] == 'Immunomodulatory']"
   ]
  }
 ],
 "metadata": {
  "kernelspec": {
   "display_name": "Python 3",
   "language": "python",
   "name": "python3"
  },
  "language_info": {
   "codemirror_mode": {
    "name": "ipython",
    "version": 3
   },
   "file_extension": ".py",
   "mimetype": "text/x-python",
   "name": "python",
   "nbconvert_exporter": "python",
   "pygments_lexer": "ipython3",
   "version": "3.8.10"
  }
 },
 "nbformat": 4,
 "nbformat_minor": 5
}
