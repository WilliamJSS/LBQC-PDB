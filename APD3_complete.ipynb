{
 "cells": [
  {
   "cell_type": "code",
   "execution_count": 1,
   "metadata": {},
   "outputs": [],
   "source": [
    "import pandas as pd\n",
    "import os"
   ]
  },
  {
   "cell_type": "code",
   "execution_count": 2,
   "metadata": {},
   "outputs": [],
   "source": [
    "path = f'{os.getcwd()}/PDBs'"
   ]
  },
  {
   "cell_type": "code",
   "execution_count": 17,
   "metadata": {},
   "outputs": [],
   "source": [
    "df = pd.read_csv(f'{path}/APD3/APD3_2023_02_02.csv')"
   ]
  },
  {
   "cell_type": "code",
   "execution_count": 57,
   "metadata": {},
   "outputs": [],
   "source": [
    "def multi_replace(text, replaces) -> (str, dict):\n",
    "    for key in replaces.keys():\n",
    "        text = text.replace(key, replaces[key])\n",
    "    return text"
   ]
  },
  {
   "cell_type": "code",
   "execution_count": 61,
   "metadata": {},
   "outputs": [
    {
     "data": {
      "text/plain": [
       "741"
      ]
     },
     "execution_count": 61,
     "metadata": {},
     "output_type": "execute_result"
    }
   ],
   "source": [
    "# Obtem os DOI que ja estao no DataFrame\n",
    "\n",
    "doi = {\n",
    "    'Index': [],\n",
    "    'DOI': []\n",
    "}\n",
    "\n",
    "#df['Reference'][2745] = 'Not Reference'\n",
    "replaces = {\n",
    "    'doi: ': 'doi:',\n",
    "    '.Pub': ' ',\n",
    "    'doi:': 'doi: ',\n",
    "    'doi.org/': 'doi: ',\n",
    "    '.Abs': ' '\n",
    "}\n",
    "\n",
    "for i in range(0, len(df['Reference'])):\n",
    "    for ref_info in df['Reference'][i].split('. '):\n",
    "        if 'doi' in ref_info:\n",
    "            ref_info = multi_replace(ref_info, replaces)\n",
    "            doi['Index'].append(i)\n",
    "            doi['DOI'].append(ref_info.split('doi:')[1].split(' ')[1])\n",
    "            #print(i, '-', ref_info.split('doi:')[1].split(' ')[1])"
   ]
  },
  {
   "cell_type": "code",
   "execution_count": 69,
   "metadata": {},
   "outputs": [],
   "source": [
    "references = {\n",
    "    'Name': [],\n",
    "    'Count': []\n",
    "}\n",
    "\n",
    "replaces = {\n",
    "    'Pub-Med': 'PubMed',\n",
    "    ' PubMed': 'PubMed',\n",
    "    ' Pub-Med': 'PubMed'\n",
    "}\n",
    "\n",
    "for ref in df['Reference']:\n",
    "    # Trata um erro no index 2745 (value=nan)\n",
    "    if type(ref) == str:\n",
    "        refs = ref.split('.')\n",
    "    else:\n",
    "        continue\n",
    "        \n",
    "    # Obtem o nome do site de referencia\n",
    "    ref_info = [x for x in refs if x != '']\n",
    "    ref_name = ref_info[len(ref_info)-1]\n",
    "    \n",
    "    # Altera o nome 'PubMed', que aparece de formas diferentes\n",
    "    if ref_name in replaces.keys():   \n",
    "        ref_name = multi_replace(ref_name, replaces)\n",
    "    \n",
    "    # Verifica se o nome ja esta na lista e altera a contagem\n",
    "    exists = [x for x in references['Name'] if ref_name == x]\n",
    "    if not exists:\n",
    "        references['Name'].append(ref_name)\n",
    "        references['Count'].append(1)\n",
    "    else:\n",
    "        for i in range(0, len(references['Name'])-1):\n",
    "            if references['Name'][i] == ref_name:\n",
    "                references['Count'][i] += 1"
   ]
  },
  {
   "cell_type": "code",
   "execution_count": 70,
   "metadata": {},
   "outputs": [
    {
     "name": "stdout",
     "output_type": "stream",
     "text": [
      "2622\n",
      "PubMed\n",
      "4\n",
      " 2008 Dec;76(12):5883-91\n",
      "3\n",
      "Submitted JUL-2002 to the SWISS-PROT data bank\n",
      "3\n",
      " 2010 Jun;31(6):989-94\n",
      "3\n",
      " 1988 Jun 5;263(16):7472-7\n",
      "3\n",
      "Peptides 2006; 27: 1738-1744\n",
      "3\n",
      " 2004 Jul 6;43(26):8391-409\n",
      "3\n",
      " 2008 Nov;29(11):2074-82\n",
      "4\n",
      " 2003 Nov 15;116(1-3):139-46\n",
      "3\n",
      " 1999;20(6):679-86\n",
      "3\n",
      " 1999 Sep 10;274(37):26172-8\n",
      "25\n",
      "1\n",
      "3\n",
      " 2010 May;92(5):475-81\n",
      "7\n",
      " ScienceDirect\n",
      "3\n",
      " 2006 May;47(6):664-75\n",
      "6\n",
      "2\n",
      "11\n",
      " Sci Direct\n",
      "6\n",
      " PDF\n",
      "5\n",
      " Publisher\n",
      "44\n",
      " MDPI\n"
     ]
    }
   ],
   "source": [
    "# Count of reference sites\n",
    "for i in range(0, len(references['Count'])):\n",
    "    if references['Count'][i] > 2:\n",
    "        print(references['Count'][i])\n",
    "        print(references['Name'][i])"
   ]
  },
  {
   "cell_type": "code",
   "execution_count": null,
   "metadata": {},
   "outputs": [],
   "source": []
  }
 ],
 "metadata": {
  "kernelspec": {
   "display_name": "Python 3",
   "language": "python",
   "name": "python3"
  },
  "language_info": {
   "codemirror_mode": {
    "name": "ipython",
    "version": 3
   },
   "file_extension": ".py",
   "mimetype": "text/x-python",
   "name": "python",
   "nbconvert_exporter": "python",
   "pygments_lexer": "ipython3",
   "version": "3.8.10"
  }
 },
 "nbformat": 4,
 "nbformat_minor": 5
}
