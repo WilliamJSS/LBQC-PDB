{
 "cells": [
  {
   "cell_type": "code",
   "execution_count": 1,
   "metadata": {},
   "outputs": [],
   "source": [
    "import pandas as pd\n",
    "import os"
   ]
  },
  {
   "cell_type": "code",
   "execution_count": 2,
   "metadata": {},
   "outputs": [],
   "source": [
    "path = f'{os.getcwd()}/PDBs'"
   ]
  },
  {
   "cell_type": "code",
   "execution_count": 3,
   "metadata": {},
   "outputs": [],
   "source": [
    "df = pd.read_csv(f'{path}/APD3/APD3_2023_02_02.csv')"
   ]
  },
  {
   "cell_type": "code",
   "execution_count": 4,
   "metadata": {},
   "outputs": [],
   "source": [
    "def multi_replace(text, replaces) -> (str, dict):\n",
    "    for key in replaces.keys():\n",
    "        text = text.replace(key, replaces[key])\n",
    "    return text"
   ]
  },
  {
   "cell_type": "code",
   "execution_count": 6,
   "metadata": {},
   "outputs": [],
   "source": [
    "# Fix type error in line 2745\n",
    "df.loc[2745, 'Reference'] = 'Not Found'"
   ]
  },
  {
   "cell_type": "code",
   "execution_count": 9,
   "metadata": {},
   "outputs": [],
   "source": [
    "# Get DOIs from DataFrame\n",
    "doi = {\n",
    "    'Index': [],\n",
    "    'DOI': []\n",
    "}\n",
    "\n",
    "replaces = {\n",
    "    'doi: ': 'doi:',\n",
    "    '.Pub': ' ',\n",
    "    'doi:': 'doi: ',\n",
    "    'doi.org/': 'doi: ',\n",
    "    '.Abs': ' '\n",
    "}\n",
    "\n",
    "for i in range(0, len(df['Reference'])):\n",
    "    for ref_info in df['Reference'][i].split('. '):\n",
    "        if 'doi' in ref_info:\n",
    "            ref_info = multi_replace(ref_info, replaces)\n",
    "            doi['Index'].append(i)\n",
    "            doi['DOI'].append(\"https://doi.org/\".join(ref_info.split('doi:')[1].split(' ')[1]))"
   ]
  },
  {
   "cell_type": "code",
   "execution_count": 36,
   "metadata": {},
   "outputs": [],
   "source": [
    "references = {\n",
    "    'Name': [],\n",
    "    'Count': []\n",
    "}\n",
    "\n",
    "replaces = {\n",
    "    'Pub-Med': 'PubMed',\n",
    "    ' PubMed': 'PubMed',\n",
    "    ' Pub-Med': 'PubMed',\n",
    "    ' OnlineJournal': 'OnlineJournal',\n",
    "    ' Publiser': 'Publiser',\n",
    "    ' SciDirect': 'ScienceDirect',\n",
    "    '1': ' '\n",
    "}\n",
    "\n",
    "for ref in df['Reference']:\n",
    "    # Get website name\n",
    "    ref_info = [x for x in ref.split('.') if x != '']\n",
    "    ref_name = ref_info[len(ref_info)-1]\n",
    "    \n",
    "    # Execute replaces\n",
    "    if not ' ' in ref_name or ref_name in replaces.keys():\n",
    "        ref_name = multi_replace(ref_name, replaces)\n",
    "        \n",
    "    # Verify names what don't have references\n",
    "    if (not 'Submit' in ref_name and ' ' in ref_name) or len(ref_name) < 5:\n",
    "        ref_name = 'Not Found'\n",
    "    \n",
    "    # Verify if name already stays at list and increment count\n",
    "    exists = [x for x in references['Name'] if x in ref_name]\n",
    "    if not exists:\n",
    "        references['Name'].append(ref_name)\n",
    "        references['Count'].append(1)\n",
    "    else:\n",
    "        for i in range(0, len(references['Name'])-1):\n",
    "            if references['Name'][i] == ref_name:\n",
    "                references['Count'][i] += 1"
   ]
  },
  {
   "cell_type": "code",
   "execution_count": 37,
   "metadata": {},
   "outputs": [
    {
     "name": "stdout",
     "output_type": "stream",
     "text": [
      "PubMed\n",
      "2622\n",
      "OnlineJournal\n",
      "1\n",
      "Not Found\n",
      "900\n",
      "Submitted JUL-2001 to the SWISS-PROT data bank\n",
      "1\n",
      "Submitted JUL-2002 to the SWISS-PROT \n",
      "1\n",
      "Submitted JUL-2001 to the EMBL GenBank DDBJ databases\n",
      "1\n",
      "Publiser\n",
      "2\n",
      "Submitted APR-2002 to the SWISS-PROT data bank\n",
      "1\n",
      "Submitted JUN-1998 to the EMBL GenBank DDBJ databases\n",
      "1\n",
      "Submitted MAR-1995 to the EMBL GenBank DDBJ databases\n",
      "1\n",
      "ScienceDirect\n",
      "2\n",
      "Submitted DEC-1999 to the SWISS-PROT data bank\n",
      "1\n",
      "GenBank\n",
      "1\n"
     ]
    }
   ],
   "source": [
    "# Count of reference sites\n",
    "for i in range(0, len(references['Count'])):\n",
    "    print(references['Name'][i])\n",
    "    print(references['Count'][i])"
   ]
  },
  {
   "cell_type": "code",
   "execution_count": null,
   "metadata": {},
   "outputs": [],
   "source": []
  }
 ],
 "metadata": {
  "kernelspec": {
   "display_name": "Python 3",
   "language": "python",
   "name": "python3"
  },
  "language_info": {
   "codemirror_mode": {
    "name": "ipython",
    "version": 3
   },
   "file_extension": ".py",
   "mimetype": "text/x-python",
   "name": "python",
   "nbconvert_exporter": "python",
   "pygments_lexer": "ipython3",
   "version": "3.8.10"
  }
 },
 "nbformat": 4,
 "nbformat_minor": 5
}
