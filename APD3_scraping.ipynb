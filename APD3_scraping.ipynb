{
 "cells": [
  {
   "cell_type": "code",
   "execution_count": 1,
   "id": "a277c52b",
   "metadata": {},
   "outputs": [],
   "source": [
    "from selenium import webdriver\n",
    "from selenium.webdriver.common.by import By\n",
    "from datetime import datetime\n",
    "import pandas as pd\n",
    "import time\n",
    "import os"
   ]
  },
  {
   "cell_type": "code",
   "execution_count": 2,
   "id": "67592033",
   "metadata": {},
   "outputs": [],
   "source": [
    "path = f'{os.getcwd()}\\PDBs\\APD3'\n",
    "url = 'https://aps.unmc.edu/database'"
   ]
  },
  {
   "cell_type": "code",
   "execution_count": 3,
   "id": "c73dc9fc",
   "metadata": {},
   "outputs": [],
   "source": [
    "data = {\n",
    "    'APD ID': [],\n",
    "    'Name/Class': [],\n",
    "    'Source': [],\n",
    "    'Sequence': [],\n",
    "    'Length': [],\n",
    "    'Net charge': [],\n",
    "    'Hydrophobic residue%': [],\n",
    "    'Boman Index': [],\n",
    "    '3D Structure': [],\n",
    "    'Method': [],\n",
    "    'SwissProt ID': [],\n",
    "    'Activity': [],\n",
    "    'Crucial residues': [],\n",
    "    'Additional info': [],\n",
    "    'Title': [],\n",
    "    'Author': [],\n",
    "    'Reference': [],\n",
    "}"
   ]
  },
  {
   "cell_type": "code",
   "execution_count": 2,
   "id": "75858038",
   "metadata": {},
   "outputs": [],
   "source": [
    "driver = webdriver.Chrome()"
   ]
  },
  {
   "cell_type": "code",
   "execution_count": 5,
   "id": "86b64aa7",
   "metadata": {},
   "outputs": [
    {
     "name": "stdout",
     "output_type": "stream",
     "text": [
      "Peptide AP3580 not found.\n"
     ]
    }
   ],
   "source": [
    "apd_id = 1\n",
    "while True:\n",
    "    driver.get(url)\n",
    "    time.sleep(2)\n",
    "    try:\n",
    "        #Send ID and submit search\n",
    "        driver.find_element(By.XPATH, '/html/body/div[2]/div[2]/form/table/tbody/tr[1]/td[2]/input').send_keys(apd_id)\n",
    "        driver.find_element(By.XPATH, '/html/body/div[2]/div[2]/form/table/tbody/tr[16]/td[2]/div/input[1]').click()\n",
    "        #Select first result from search\n",
    "        driver.find_element(By.XPATH, '/html/body/div[2]/div[2]/form[2]/table/tbody/tr/td[1]/button').click()\n",
    "        #Select details\n",
    "        elements = driver.find_elements(By.TAG_NAME, 'td')\n",
    "        for i in range(0, len(elements), 2):\n",
    "            value = elements[i+1].text if elements[i+1].text != '' else 'NaN'\n",
    "            data[elements[i].text.split(':')[0]].append(value)\n",
    "        apd_id += 1\n",
    "    except:\n",
    "        print(f'Peptide AP{apd_id} not found.')\n",
    "        break"
   ]
  },
  {
   "cell_type": "code",
   "execution_count": 3,
   "id": "0506cfcd",
   "metadata": {},
   "outputs": [],
   "source": [
    "driver.close()"
   ]
  },
  {
   "cell_type": "code",
   "execution_count": 25,
   "id": "b366ad27",
   "metadata": {},
   "outputs": [
    {
     "data": {
      "text/plain": [
       "'NaN'"
      ]
     },
     "execution_count": 25,
     "metadata": {},
     "output_type": "execute_result"
    }
   ],
   "source": [
    "data['Title'].insert(2745, 'NaN')\n",
    "data['Author'].insert(2745, 'NaN')\n",
    "data['Reference'].insert(2745, 'NaN')"
   ]
  },
  {
   "cell_type": "code",
   "execution_count": 27,
   "id": "d539da3c",
   "metadata": {},
   "outputs": [],
   "source": [
    "df = pd.DataFrame(data)"
   ]
  },
  {
   "cell_type": "code",
   "execution_count": 29,
   "id": "4be144e1",
   "metadata": {},
   "outputs": [],
   "source": [
    "dt = datetime.now()\n",
    "df.to_csv(f'{path}/APD3_{dt.strftime(\"%Y_%m_%d\")}.csv', index=False)"
   ]
  }
 ],
 "metadata": {
  "kernelspec": {
   "display_name": "Python 3 (ipykernel)",
   "language": "python",
   "name": "python3"
  },
  "language_info": {
   "codemirror_mode": {
    "name": "ipython",
    "version": 3
   },
   "file_extension": ".py",
   "mimetype": "text/x-python",
   "name": "python",
   "nbconvert_exporter": "python",
   "pygments_lexer": "ipython3",
   "version": "3.9.13"
  }
 },
 "nbformat": 4,
 "nbformat_minor": 5
}
