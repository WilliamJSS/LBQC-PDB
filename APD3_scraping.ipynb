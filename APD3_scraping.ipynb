{
 "cells": [
  {
   "cell_type": "code",
   "execution_count": 2,
   "id": "b49675f6",
   "metadata": {},
   "outputs": [],
   "source": [
    "from selenium import webdriver\n",
    "from selenium.webdriver.common.by import By\n",
    "from datetime import datetime\n",
    "import pandas as pd\n",
    "import time\n",
    "import os"
   ]
  },
  {
   "cell_type": "code",
   "execution_count": 2,
   "id": "18b2528a",
   "metadata": {},
   "outputs": [],
   "source": [
    "path = f'{os.getcwd()}\\PDBs\\APD3'\n",
    "url = 'https://aps.unmc.edu/database'"
   ]
  },
  {
   "cell_type": "code",
   "execution_count": 3,
   "id": "7584bf3d",
   "metadata": {},
   "outputs": [],
   "source": [
    "data = {\n",
    "    'APD ID': [],\n",
    "    'Name/Class': [],\n",
    "    'Source': [],\n",
    "    'Sequence': [],\n",
    "    'Length': [],\n",
    "    'Net charge': [],\n",
    "    'Hydrophobic residue%': [],\n",
    "    'Boman Index': [],\n",
    "    '3D Structure': [],\n",
    "    'Method': [],\n",
    "    'SwissProt ID': [],\n",
    "    'Activity': [],\n",
    "    'Crucial residues': [],\n",
    "    'Additional info': [],\n",
    "    'Title': [],\n",
    "    'Author': [],\n",
    "    'Reference': [],\n",
    "}"
   ]
  },
  {
   "cell_type": "code",
   "execution_count": 4,
   "id": "ec880c98",
   "metadata": {},
   "outputs": [],
   "source": [
    "driver = webdriver.Chrome()"
   ]
  },
  {
   "cell_type": "code",
   "execution_count": 5,
   "id": "7ed2338f",
   "metadata": {},
   "outputs": [
    {
     "name": "stdout",
     "output_type": "stream",
     "text": [
      "Peptide AP3570 not found.\n"
     ]
    }
   ],
   "source": [
    "apd_id = 1\n",
    "while True:\n",
    "    driver.get(url)\n",
    "    time.sleep(2)\n",
    "    try:\n",
    "        #Send ID and submit search\n",
    "        driver.find_element(By.XPATH, '/html/body/div[2]/div[2]/form/table/tbody/tr[1]/td[2]/input').send_keys(apd_id)\n",
    "        driver.find_element(By.XPATH, '/html/body/div[2]/div[2]/form/table/tbody/tr[16]/td[2]/div/input[1]').click()\n",
    "        #Select first result from search\n",
    "        driver.find_element(By.XPATH, '/html/body/div[2]/div[2]/form[2]/table/tbody/tr/td[1]/button').click()\n",
    "        #Select details\n",
    "        elements = driver.find_elements(By.TAG_NAME, 'td')\n",
    "        for i in range(0, len(elements), 2):\n",
    "            data[elements[i].text.split(':')[0]].append(elements[i+1].text)\n",
    "        apd_id += 1\n",
    "    except:\n",
    "        print(f'Peptide AP{apd_id} not found.')\n",
    "        break"
   ]
  },
  {
   "cell_type": "code",
   "execution_count": 6,
   "id": "91928091",
   "metadata": {},
   "outputs": [],
   "source": [
    "driver.close()"
   ]
  },
  {
   "cell_type": "code",
   "execution_count": 14,
   "id": "293d8872",
   "metadata": {},
   "outputs": [
    {
     "data": {
      "text/plain": [
       "dict_keys(['APD ID', 'Name/Class', 'Source', 'Sequence', 'Length', 'Net charge', 'Hydrophobic residue%', 'Boman Index', '3D Structure', 'Method', 'SwissProt ID', 'Activity', 'Crucial residues', 'Additional info'])"
      ]
     },
     "execution_count": 14,
     "metadata": {},
     "output_type": "execute_result"
    }
   ],
   "source": [
    "# Delete a three last keys: 'Title', 'Author' and 'Reference'\n",
    "data.pop('Title')\n",
    "data.pop('Author')\n",
    "data.pop('Reference')\n",
    "data.keys()"
   ]
  },
  {
   "cell_type": "code",
   "execution_count": 15,
   "id": "491686d1",
   "metadata": {},
   "outputs": [],
   "source": [
    "df = pd.DataFrame(data)"
   ]
  },
  {
   "cell_type": "code",
   "execution_count": 19,
   "id": "e6408b2b",
   "metadata": {},
   "outputs": [],
   "source": [
    "dt = datetime.now()\n",
    "df.to_csv(f'{path}/APD3_{dt.strftime(\"%Y_%m_%d\")}.csv', index=False)"
   ]
  },
  {
   "cell_type": "code",
   "execution_count": 18,
   "id": "a8473408",
   "metadata": {},
   "outputs": [
    {
     "data": {
      "text/html": [
       "<div>\n",
       "<style scoped>\n",
       "    .dataframe tbody tr th:only-of-type {\n",
       "        vertical-align: middle;\n",
       "    }\n",
       "\n",
       "    .dataframe tbody tr th {\n",
       "        vertical-align: top;\n",
       "    }\n",
       "\n",
       "    .dataframe thead th {\n",
       "        text-align: right;\n",
       "    }\n",
       "</style>\n",
       "<table border=\"1\" class=\"dataframe\">\n",
       "  <thead>\n",
       "    <tr style=\"text-align: right;\">\n",
       "      <th></th>\n",
       "      <th>APD ID</th>\n",
       "      <th>Name/Class</th>\n",
       "      <th>Source</th>\n",
       "      <th>Sequence</th>\n",
       "      <th>Length</th>\n",
       "      <th>Net charge</th>\n",
       "      <th>Hydrophobic residue%</th>\n",
       "      <th>Boman Index</th>\n",
       "      <th>3D Structure</th>\n",
       "      <th>Method</th>\n",
       "      <th>SwissProt ID</th>\n",
       "      <th>Activity</th>\n",
       "      <th>Crucial residues</th>\n",
       "      <th>Additional info</th>\n",
       "    </tr>\n",
       "  </thead>\n",
       "  <tbody>\n",
       "    <tr>\n",
       "      <th>0</th>\n",
       "      <td>AP00001</td>\n",
       "      <td>Dermaseptin-B2 (XXA, DRS-B2, Dermaseptin B2, D...</td>\n",
       "      <td>skin, Giant leaf frog, Phyllomedusa bicolor, S...</td>\n",
       "      <td>GLWSKIKEVGKEAAKAAAKAAGKAALGAVSEAV</td>\n",
       "      <td>33</td>\n",
       "      <td>4</td>\n",
       "      <td>54%</td>\n",
       "      <td>0.23</td>\n",
       "      <td>Helix</td>\n",
       "      <td>NMR</td>\n",
       "      <td>SwissProt ID: P31107 Go to SwissProt</td>\n",
       "      <td>Anti-Gram+ &amp; Gram-, Antifungal, candidacidal, ...</td>\n",
       "      <td>N-terminal segment</td>\n",
       "      <td>History: A frog used for \"hunting magic\" by se...</td>\n",
       "    </tr>\n",
       "    <tr>\n",
       "      <th>1</th>\n",
       "      <td>AP00002</td>\n",
       "      <td>Abaecin (natural AMPs; Pro-rich; insects, arth...</td>\n",
       "      <td>honeybee, Apis mellifera L.</td>\n",
       "      <td>YVPLPNVPQPGRRPFPTFPGQGPFNPKIKWPQGY</td>\n",
       "      <td>34</td>\n",
       "      <td>4</td>\n",
       "      <td>23%</td>\n",
       "      <td>1.19</td>\n",
       "      <td>Rich</td>\n",
       "      <td></td>\n",
       "      <td>SwissProt ID: P15450 Go to SwissProt</td>\n",
       "      <td>Anti-Gram+ &amp; Gram-</td>\n",
       "      <td></td>\n",
       "      <td>Rich in P (29.4%).\\nActivity: Active against A...</td>\n",
       "    </tr>\n",
       "    <tr>\n",
       "      <th>2</th>\n",
       "      <td>AP00003</td>\n",
       "      <td>Hs-AFP1 (HsAFP1, H. sanguinea antifungal prote...</td>\n",
       "      <td>Heuchera sanguinea</td>\n",
       "      <td>DGVKLCDVPSGTWSGHCGSSSKCSQQCKDREHFAYGGACHYQFPSV...</td>\n",
       "      <td>54</td>\n",
       "      <td>6</td>\n",
       "      <td>33%</td>\n",
       "      <td>1.95</td>\n",
       "      <td>Bridge</td>\n",
       "      <td></td>\n",
       "      <td>Reference ID: Ref</td>\n",
       "      <td>Antifungal</td>\n",
       "      <td></td>\n",
       "      <td>In medium A supplemented with 1 mM CaCl2 and 5...</td>\n",
       "    </tr>\n",
       "    <tr>\n",
       "      <th>3</th>\n",
       "      <td>AP00004</td>\n",
       "      <td>Ct-AMP1 (CtAMP1, C. ternatea-antimicrobial pep...</td>\n",
       "      <td>Clitoria ternatea</td>\n",
       "      <td>NLCERASLTWTGNCGNTGHCDTQCRNWESAKHGACHKRGNWKCFCYFDC</td>\n",
       "      <td>49</td>\n",
       "      <td>5</td>\n",
       "      <td>36%</td>\n",
       "      <td>2.43</td>\n",
       "      <td>Bridge</td>\n",
       "      <td></td>\n",
       "      <td>Reference ID: Ref</td>\n",
       "      <td>Anti-Gram+, Antifungal</td>\n",
       "      <td></td>\n",
       "      <td>In medium A supplemented with 1 mM CaCl2 and 5...</td>\n",
       "    </tr>\n",
       "    <tr>\n",
       "      <th>4</th>\n",
       "      <td>AP00005</td>\n",
       "      <td>Andropin (natural AMPs; insects, arthropods, i...</td>\n",
       "      <td>Fruit fly, Drosophila melanogaster</td>\n",
       "      <td>VFIDILDKVENAIHNAAQVGIGFAKPFEKLINPK</td>\n",
       "      <td>34</td>\n",
       "      <td>1</td>\n",
       "      <td>50%</td>\n",
       "      <td>0.55</td>\n",
       "      <td>Unknown</td>\n",
       "      <td></td>\n",
       "      <td>SwissProt ID: P21663 Go to SwissProt</td>\n",
       "      <td>Anti-Gram+</td>\n",
       "      <td></td>\n",
       "      <td>Active against B. megatherium Bml 1 (MIC 11 uM...</td>\n",
       "    </tr>\n",
       "  </tbody>\n",
       "</table>\n",
       "</div>"
      ],
      "text/plain": [
       "    APD ID                                         Name/Class  \\\n",
       "0  AP00001  Dermaseptin-B2 (XXA, DRS-B2, Dermaseptin B2, D...   \n",
       "1  AP00002  Abaecin (natural AMPs; Pro-rich; insects, arth...   \n",
       "2  AP00003  Hs-AFP1 (HsAFP1, H. sanguinea antifungal prote...   \n",
       "3  AP00004  Ct-AMP1 (CtAMP1, C. ternatea-antimicrobial pep...   \n",
       "4  AP00005  Andropin (natural AMPs; insects, arthropods, i...   \n",
       "\n",
       "                                              Source  \\\n",
       "0  skin, Giant leaf frog, Phyllomedusa bicolor, S...   \n",
       "1                        honeybee, Apis mellifera L.   \n",
       "2                                 Heuchera sanguinea   \n",
       "3                                  Clitoria ternatea   \n",
       "4                 Fruit fly, Drosophila melanogaster   \n",
       "\n",
       "                                            Sequence Length Net charge  \\\n",
       "0                  GLWSKIKEVGKEAAKAAAKAAGKAALGAVSEAV     33          4   \n",
       "1                 YVPLPNVPQPGRRPFPTFPGQGPFNPKIKWPQGY     34          4   \n",
       "2  DGVKLCDVPSGTWSGHCGSSSKCSQQCKDREHFAYGGACHYQFPSV...     54          6   \n",
       "3  NLCERASLTWTGNCGNTGHCDTQCRNWESAKHGACHKRGNWKCFCYFDC     49          5   \n",
       "4                 VFIDILDKVENAIHNAAQVGIGFAKPFEKLINPK     34          1   \n",
       "\n",
       "  Hydrophobic residue% Boman Index 3D Structure Method  \\\n",
       "0                  54%        0.23        Helix    NMR   \n",
       "1                  23%        1.19         Rich          \n",
       "2                  33%        1.95       Bridge          \n",
       "3                  36%        2.43       Bridge          \n",
       "4                  50%        0.55      Unknown          \n",
       "\n",
       "                           SwissProt ID  \\\n",
       "0  SwissProt ID: P31107 Go to SwissProt   \n",
       "1  SwissProt ID: P15450 Go to SwissProt   \n",
       "2                     Reference ID: Ref   \n",
       "3                     Reference ID: Ref   \n",
       "4  SwissProt ID: P21663 Go to SwissProt   \n",
       "\n",
       "                                            Activity    Crucial residues  \\\n",
       "0  Anti-Gram+ & Gram-, Antifungal, candidacidal, ...  N-terminal segment   \n",
       "1                                 Anti-Gram+ & Gram-                       \n",
       "2                                         Antifungal                       \n",
       "3                             Anti-Gram+, Antifungal                       \n",
       "4                                         Anti-Gram+                       \n",
       "\n",
       "                                     Additional info  \n",
       "0  History: A frog used for \"hunting magic\" by se...  \n",
       "1  Rich in P (29.4%).\\nActivity: Active against A...  \n",
       "2  In medium A supplemented with 1 mM CaCl2 and 5...  \n",
       "3  In medium A supplemented with 1 mM CaCl2 and 5...  \n",
       "4  Active against B. megatherium Bml 1 (MIC 11 uM...  "
      ]
     },
     "execution_count": 18,
     "metadata": {},
     "output_type": "execute_result"
    }
   ],
   "source": [
    "df.head()"
   ]
  }
 ],
 "metadata": {
  "kernelspec": {
   "display_name": "Python 3 (ipykernel)",
   "language": "python",
   "name": "python3"
  },
  "language_info": {
   "codemirror_mode": {
    "name": "ipython",
    "version": 3
   },
   "file_extension": ".py",
   "mimetype": "text/x-python",
   "name": "python",
   "nbconvert_exporter": "python",
   "pygments_lexer": "ipython3",
   "version": "3.9.13"
  }
 },
 "nbformat": 4,
 "nbformat_minor": 5
}
