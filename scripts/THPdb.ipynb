{
 "cells": [
  {
   "cell_type": "code",
   "execution_count": 2,
   "metadata": {},
   "outputs": [],
   "source": [
    "import pandas as pd\n",
    "import utils\n",
    "import wget"
   ]
  },
  {
   "cell_type": "code",
   "execution_count": 3,
   "metadata": {},
   "outputs": [],
   "source": [
    "path = utils.pdb_path()\n",
    "url_download = 'https://webs.iiitd.edu.in/raghava/thpdb/thpdb.txt'\n",
    "url = 'https://webs.iiitd.edu.in/raghava/thpdb/display.php?details='"
   ]
  },
  {
   "cell_type": "code",
   "execution_count": 4,
   "metadata": {},
   "outputs": [],
   "source": [
    "data = {\n",
    "    'ID': [],\n",
    "    'ThPP ID': [],\n",
    "    'Therapeutic Peptide/Protein Name': [],\n",
    "    'Sequence': [],\n",
    "    'Functional Classification': [],\n",
    "    'Molecular Weight': [],\n",
    "    'Chemical Formula': [],\n",
    "    'Isoelectric Point': [],\n",
    "    'Hydrophobicity': [],\n",
    "    'Melting Point (℃)': [],\n",
    "    'Half Life': [],\n",
    "    'Description': [],\n",
    "    'Indication/Disease': [],\n",
    "    'Pharmacodynamics': [],\n",
    "    'Mechanism of Action': [],\n",
    "    'Toxicity': [],\n",
    "    'Metabolism': [],\n",
    "    'Absorption': [],\n",
    "    'Volume of Distribution': [],\n",
    "    'Clearance': [],\n",
    "    'Categories': [],\n",
    "    'Patents Number': [],\n",
    "    'Date of Issue': [],\n",
    "    'Date of Expiry': [],\n",
    "    'Drug Interaction': [],\n",
    "    'Target': []\n",
    "}"
   ]
  },
  {
   "cell_type": "code",
   "execution_count": 5,
   "metadata": {},
   "outputs": [
    {
     "data": {
      "text/plain": [
       "'/home/pcbio/Área de Trabalho/William/LBQC-PDB/PDBs_releases/THPdb/thpdb (1).txt'"
      ]
     },
     "execution_count": 5,
     "metadata": {},
     "output_type": "execute_result"
    }
   ],
   "source": [
    "# Download Peptide List from THPdb\n",
    "filename = url_download.split('/')[len(url_download.split('/'))-1]\n",
    "wget.download(url_download, out=f'{path}/THPdb/{filename}')"
   ]
  },
  {
   "cell_type": "code",
   "execution_count": 6,
   "metadata": {},
   "outputs": [],
   "source": [
    "with open(f'{path}/THPdb/{filename}', encoding='utf8') as file:\n",
    "    lines = file.readlines()\n",
    "    for line in lines:\n",
    "        for pep_info in line.split('\\n'):\n",
    "            #ignore the blank lines\n",
    "            if not pep_info.strip():\n",
    "                continue\n",
    "            index = 0\n",
    "            for key in data.keys():\n",
    "                data[key].append(pep_info.split('\\t')[index])\n",
    "                index += 1"
   ]
  },
  {
   "cell_type": "code",
   "execution_count": 7,
   "metadata": {},
   "outputs": [],
   "source": [
    "# Create DataFrame\n",
    "df = pd.DataFrame(data)"
   ]
  },
  {
   "cell_type": "code",
   "execution_count": 8,
   "metadata": {},
   "outputs": [],
   "source": [
    "#Add links to peptides in THPdb\n",
    "links = []\n",
    "for pep_id in df['ID']:\n",
    "    links.append(f'{url}{pep_id}')\n",
    "df['Link'] = links"
   ]
  },
  {
   "cell_type": "code",
   "execution_count": 9,
   "metadata": {},
   "outputs": [
    {
     "name": "stdout",
     "output_type": "stream",
     "text": [
      "Save files in:\n",
      "/home/pcbio/Área de Trabalho/William/LBQC-PDB/PDBs_releases/THPdb/THPdb_2023_03_10.csv\n",
      "/home/pcbio/Área de Trabalho/William/LBQC-PDB/PDBs_releases/THPdb.csv\n"
     ]
    }
   ],
   "source": [
    "# Save csv file\n",
    "utils.pd_to_csv(df, path, 'THPdb')"
   ]
  }
 ],
 "metadata": {
  "kernelspec": {
   "display_name": "Python 3",
   "language": "python",
   "name": "python3"
  },
  "language_info": {
   "codemirror_mode": {
    "name": "ipython",
    "version": 3
   },
   "file_extension": ".py",
   "mimetype": "text/x-python",
   "name": "python",
   "nbconvert_exporter": "python",
   "pygments_lexer": "ipython3",
   "version": "3.8.10"
  }
 },
 "nbformat": 4,
 "nbformat_minor": 5
}
