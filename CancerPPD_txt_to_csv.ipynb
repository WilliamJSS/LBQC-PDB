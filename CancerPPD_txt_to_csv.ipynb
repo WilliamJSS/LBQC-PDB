{
 "cells": [
  {
   "cell_type": "code",
   "execution_count": 1,
   "id": "5fcf4466",
   "metadata": {},
   "outputs": [],
   "source": [
    "from datetime import datetime\n",
    "import pandas as pd\n",
    "import os"
   ]
  },
  {
   "cell_type": "code",
   "execution_count": 2,
   "id": "fc15db78",
   "metadata": {},
   "outputs": [],
   "source": [
    "path = f'{os.getcwd()}PDBs/CancerPPD'"
   ]
  },
  {
   "cell_type": "code",
   "execution_count": 3,
   "id": "ecae863b",
   "metadata": {},
   "outputs": [
    {
     "data": {
      "text/plain": [
       "'SEQUENCE'"
      ]
     },
     "execution_count": 3,
     "metadata": {},
     "output_type": "execute_result"
    }
   ],
   "source": [
    "seqs1 = []\n",
    "with open(f'{path}/d_natural.txt') as file:\n",
    "    lines = file.readlines()\n",
    "    for line in lines:\n",
    "        [_, sequence, __] = line.split('\\t')\n",
    "        seqs1.append(sequence.upper())\n",
    "seqs1.pop(0)"
   ]
  },
  {
   "cell_type": "code",
   "execution_count": 4,
   "id": "9c9c3898",
   "metadata": {},
   "outputs": [
    {
     "data": {
      "text/plain": [
       "'Sequence'"
      ]
     },
     "execution_count": 4,
     "metadata": {},
     "output_type": "execute_result"
    }
   ],
   "source": [
    "seqs2 = []\n",
    "with open(f'{path}/l_natural.txt') as file:\n",
    "    lines = file.readlines()\n",
    "    for line in lines:\n",
    "        [_, sequence] = line.replace('\\n','').split('\\t')\n",
    "        seqs2.append(sequence)\n",
    "seqs2.pop(0)"
   ]
  },
  {
   "cell_type": "code",
   "execution_count": 5,
   "id": "a459adf7",
   "metadata": {},
   "outputs": [
    {
     "data": {
      "text/plain": [
       "'Sequence'"
      ]
     },
     "execution_count": 5,
     "metadata": {},
     "output_type": "execute_result"
    }
   ],
   "source": [
    "seqs3 = []\n",
    "with open(f'{path}/mix_natural.txt') as file:\n",
    "    lines = file.readlines()\n",
    "    for line in lines:\n",
    "        [_, sequence] = line.replace('\\n','').split('\\t')\n",
    "        seqs3.append(sequence)\n",
    "seqs3.pop(0)"
   ]
  },
  {
   "cell_type": "code",
   "execution_count": 6,
   "id": "8214e6d9",
   "metadata": {},
   "outputs": [],
   "source": [
    "df = pd.DataFrame(seqs1+seqs2+seqs3, columns=['Sequences'])"
   ]
  },
  {
   "cell_type": "code",
   "execution_count": 7,
   "id": "0396c27c",
   "metadata": {},
   "outputs": [],
   "source": [
    "dt = datetime.now()\n",
    "df.to_csv(f'{path}/CancerPPD_{dt.strftime(\"%Y_%m_%d\")}.csv', index=False)"
   ]
  },
  {
   "cell_type": "code",
   "execution_count": 4,
   "id": "5ffdf15e",
   "metadata": {},
   "outputs": [
    {
     "data": {
      "text/html": [
       "<div>\n",
       "<style scoped>\n",
       "    .dataframe tbody tr th:only-of-type {\n",
       "        vertical-align: middle;\n",
       "    }\n",
       "\n",
       "    .dataframe tbody tr th {\n",
       "        vertical-align: top;\n",
       "    }\n",
       "\n",
       "    .dataframe thead th {\n",
       "        text-align: right;\n",
       "    }\n",
       "</style>\n",
       "<table border=\"1\" class=\"dataframe\">\n",
       "  <thead>\n",
       "    <tr style=\"text-align: right;\">\n",
       "      <th></th>\n",
       "      <th>Sequences</th>\n",
       "    </tr>\n",
       "  </thead>\n",
       "  <tbody>\n",
       "    <tr>\n",
       "      <th>0</th>\n",
       "      <td>GIGKFLKKAKKFAKAFVKIINN</td>\n",
       "    </tr>\n",
       "    <tr>\n",
       "      <th>1</th>\n",
       "      <td>VNWKKILGKIIKVVK</td>\n",
       "    </tr>\n",
       "    <tr>\n",
       "      <th>2</th>\n",
       "      <td>VNWKKLLGKLLKVVK</td>\n",
       "    </tr>\n",
       "    <tr>\n",
       "      <th>3</th>\n",
       "      <td>VNWKKILGKIIKVVK</td>\n",
       "    </tr>\n",
       "    <tr>\n",
       "      <th>4</th>\n",
       "      <td>VNWKKLLGKLLKVVK</td>\n",
       "    </tr>\n",
       "    <tr>\n",
       "      <th>...</th>\n",
       "      <td>...</td>\n",
       "    </tr>\n",
       "    <tr>\n",
       "      <th>2847</th>\n",
       "      <td>GRVPYPRGGLLkLLKklLKKLlKL</td>\n",
       "    </tr>\n",
       "    <tr>\n",
       "      <th>2848</th>\n",
       "      <td>GRVPYPRGGLLkLLKklLKKLlKL</td>\n",
       "    </tr>\n",
       "    <tr>\n",
       "      <th>2849</th>\n",
       "      <td>GRVPYPRGGLLkLLKklLKKLlKL</td>\n",
       "    </tr>\n",
       "    <tr>\n",
       "      <th>2850</th>\n",
       "      <td>YHWYGYTPQNVIGGGKLlLKlLkkLLKlLKKK</td>\n",
       "    </tr>\n",
       "    <tr>\n",
       "      <th>2851</th>\n",
       "      <td>YHWYGYTPQNVIGGGKLlLKlLkkLLKlLKKK</td>\n",
       "    </tr>\n",
       "  </tbody>\n",
       "</table>\n",
       "<p>2852 rows × 1 columns</p>\n",
       "</div>"
      ],
      "text/plain": [
       "                             Sequences\n",
       "0               GIGKFLKKAKKFAKAFVKIINN\n",
       "1                      VNWKKILGKIIKVVK\n",
       "2                      VNWKKLLGKLLKVVK\n",
       "3                      VNWKKILGKIIKVVK\n",
       "4                      VNWKKLLGKLLKVVK\n",
       "...                                ...\n",
       "2847          GRVPYPRGGLLkLLKklLKKLlKL\n",
       "2848          GRVPYPRGGLLkLLKklLKKLlKL\n",
       "2849          GRVPYPRGGLLkLLKklLKKLlKL\n",
       "2850  YHWYGYTPQNVIGGGKLlLKlLkkLLKlLKKK\n",
       "2851  YHWYGYTPQNVIGGGKLlLKlLkkLLKlLKKK\n",
       "\n",
       "[2852 rows x 1 columns]"
      ]
     },
     "execution_count": 4,
     "metadata": {},
     "output_type": "execute_result"
    }
   ],
   "source": [
    "dfx = pd.read_csv(f'{path}/CancerPPD_2023_01_06.csv')\n",
    "dfx"
   ]
  }
 ],
 "metadata": {
  "kernelspec": {
   "display_name": "Python 3 (ipykernel)",
   "language": "python",
   "name": "python3"
  },
  "language_info": {
   "codemirror_mode": {
    "name": "ipython",
    "version": 3
   },
   "file_extension": ".py",
   "mimetype": "text/x-python",
   "name": "python",
   "nbconvert_exporter": "python",
   "pygments_lexer": "ipython3",
   "version": "3.9.13"
  }
 },
 "nbformat": 4,
 "nbformat_minor": 5
}
