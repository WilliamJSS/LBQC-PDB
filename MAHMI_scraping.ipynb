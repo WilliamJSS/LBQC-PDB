{
 "cells": [
  {
   "cell_type": "code",
   "execution_count": 1,
   "id": "2f5324eb",
   "metadata": {},
   "outputs": [],
   "source": [
    "from selenium import webdriver\n",
    "from selenium.webdriver.common.by import By\n",
    "from datetime import datetime\n",
    "import pandas as pd\n",
    "import time"
   ]
  },
  {
   "cell_type": "code",
   "execution_count": 2,
   "id": "b4a83668",
   "metadata": {},
   "outputs": [],
   "source": [
    "path = 'D:\\WilliamJSS\\Projects\\LBQC\\LBQC-PDB\\PDBs\\MAHMI'\n",
    "url = 'https://www.sing-group.org/mahmi/explore.php'"
   ]
  },
  {
   "cell_type": "code",
   "execution_count": 3,
   "id": "9ec27ba4",
   "metadata": {},
   "outputs": [],
   "source": [
    "data = {\n",
    "    'SEQUENCE': [],\n",
    "    'BIOACTIVITY': []\n",
    "}"
   ]
  },
  {
   "cell_type": "code",
   "execution_count": 4,
   "id": "2b2673f6",
   "metadata": {},
   "outputs": [],
   "source": [
    "driver = webdriver.Chrome()"
   ]
  },
  {
   "cell_type": "code",
   "execution_count": 5,
   "id": "e70ef9c1",
   "metadata": {},
   "outputs": [
    {
     "name": "stdout",
     "output_type": "stream",
     "text": [
      "Finished\n"
     ]
    }
   ],
   "source": [
    "driver.get(url)\n",
    "while True:\n",
    "    try:\n",
    "        time.sleep(3)\n",
    "        elements = driver.find_elements(By.TAG_NAME, 'td')\n",
    "        for i in range(0, len(elements), 4):\n",
    "            data['SEQUENCE'].append(elements[i+1].text)\n",
    "            data['BIOACTIVITY'].append(elements[i+2].text)\n",
    "        button = driver.find_element(By.CSS_SELECTOR, '.pagination li:last-child a').click()\n",
    "    except:\n",
    "        print('Finished')\n",
    "        break"
   ]
  },
  {
   "cell_type": "code",
   "execution_count": 6,
   "id": "a2485f6b",
   "metadata": {},
   "outputs": [],
   "source": [
    "driver.close()"
   ]
  },
  {
   "cell_type": "code",
   "execution_count": 7,
   "id": "81560f26",
   "metadata": {},
   "outputs": [],
   "source": [
    "df = pd.DataFrame(data)"
   ]
  },
  {
   "cell_type": "code",
   "execution_count": 8,
   "id": "4a944593",
   "metadata": {},
   "outputs": [],
   "source": [
    "dt = datetime.now()\n",
    "df.to_csv(f'{path}/MAHMI_{dt.strftime(\"%Y_%m_%d\")}.csv', index=False)"
   ]
  },
  {
   "cell_type": "code",
   "execution_count": 9,
   "id": "f4082803",
   "metadata": {},
   "outputs": [
    {
     "data": {
      "text/html": [
       "<div>\n",
       "<style scoped>\n",
       "    .dataframe tbody tr th:only-of-type {\n",
       "        vertical-align: middle;\n",
       "    }\n",
       "\n",
       "    .dataframe tbody tr th {\n",
       "        vertical-align: top;\n",
       "    }\n",
       "\n",
       "    .dataframe thead th {\n",
       "        text-align: right;\n",
       "    }\n",
       "</style>\n",
       "<table border=\"1\" class=\"dataframe\">\n",
       "  <thead>\n",
       "    <tr style=\"text-align: right;\">\n",
       "      <th></th>\n",
       "      <th>SEQUENCE</th>\n",
       "      <th>BIOACTIVITY</th>\n",
       "    </tr>\n",
       "  </thead>\n",
       "  <tbody>\n",
       "    <tr>\n",
       "      <th>0</th>\n",
       "      <td>AEMKQEIVKLINAERARIGLHELKVSPKVMQAAQIRAGECTTLF</td>\n",
       "      <td>Anti-inflammatory</td>\n",
       "    </tr>\n",
       "    <tr>\n",
       "      <th>1</th>\n",
       "      <td>QAAQIRAGECTTL</td>\n",
       "      <td>Anti-inflammatory</td>\n",
       "    </tr>\n",
       "    <tr>\n",
       "      <th>2</th>\n",
       "      <td>LVSNGISGNAAAQIGAMEKAILESIKNRKQEESETGENINARNSHREKF</td>\n",
       "      <td>Anti-inflammatory</td>\n",
       "    </tr>\n",
       "    <tr>\n",
       "      <th>3</th>\n",
       "      <td>RLRAKLRNLCRKLADIRKMEHNILANELLAY</td>\n",
       "      <td>Anti-inflammatory</td>\n",
       "    </tr>\n",
       "    <tr>\n",
       "      <th>4</th>\n",
       "      <td>RNLCRKLADIRKMEHNIL</td>\n",
       "      <td>Anti-inflammatory</td>\n",
       "    </tr>\n",
       "    <tr>\n",
       "      <th>...</th>\n",
       "      <td>...</td>\n",
       "      <td>...</td>\n",
       "    </tr>\n",
       "    <tr>\n",
       "      <th>276395</th>\n",
       "      <td>SGDITCYLGAV</td>\n",
       "      <td>Immunomodulatory</td>\n",
       "    </tr>\n",
       "    <tr>\n",
       "      <th>276396</th>\n",
       "      <td>QGTNCIRIRCY</td>\n",
       "      <td>Immunomodulatory</td>\n",
       "    </tr>\n",
       "    <tr>\n",
       "      <th>276397</th>\n",
       "      <td>MLSIIIPLYNK</td>\n",
       "      <td>Immunomodulatory</td>\n",
       "    </tr>\n",
       "    <tr>\n",
       "      <th>276398</th>\n",
       "      <td>TVRRESLELPNGNRIPDY</td>\n",
       "      <td>Immunomodulatory</td>\n",
       "    </tr>\n",
       "    <tr>\n",
       "      <th>276399</th>\n",
       "      <td>IPVYSYLM</td>\n",
       "      <td>Immunomodulatory</td>\n",
       "    </tr>\n",
       "  </tbody>\n",
       "</table>\n",
       "<p>276400 rows × 2 columns</p>\n",
       "</div>"
      ],
      "text/plain": [
       "                                                 SEQUENCE        BIOACTIVITY\n",
       "0            AEMKQEIVKLINAERARIGLHELKVSPKVMQAAQIRAGECTTLF  Anti-inflammatory\n",
       "1                                           QAAQIRAGECTTL  Anti-inflammatory\n",
       "2       LVSNGISGNAAAQIGAMEKAILESIKNRKQEESETGENINARNSHREKF  Anti-inflammatory\n",
       "3                         RLRAKLRNLCRKLADIRKMEHNILANELLAY  Anti-inflammatory\n",
       "4                                      RNLCRKLADIRKMEHNIL  Anti-inflammatory\n",
       "...                                                   ...                ...\n",
       "276395                                        SGDITCYLGAV   Immunomodulatory\n",
       "276396                                        QGTNCIRIRCY   Immunomodulatory\n",
       "276397                                        MLSIIIPLYNK   Immunomodulatory\n",
       "276398                                 TVRRESLELPNGNRIPDY   Immunomodulatory\n",
       "276399                                           IPVYSYLM   Immunomodulatory\n",
       "\n",
       "[276400 rows x 2 columns]"
      ]
     },
     "execution_count": 9,
     "metadata": {},
     "output_type": "execute_result"
    }
   ],
   "source": [
    "df"
   ]
  }
 ],
 "metadata": {
  "kernelspec": {
   "display_name": "Python 3 (ipykernel)",
   "language": "python",
   "name": "python3"
  },
  "language_info": {
   "codemirror_mode": {
    "name": "ipython",
    "version": 3
   },
   "file_extension": ".py",
   "mimetype": "text/x-python",
   "name": "python",
   "nbconvert_exporter": "python",
   "pygments_lexer": "ipython3",
   "version": "3.9.13"
  }
 },
 "nbformat": 4,
 "nbformat_minor": 5
}
