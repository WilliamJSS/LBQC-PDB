{
 "cells": [
  {
   "cell_type": "code",
   "execution_count": 1,
   "metadata": {},
   "outputs": [],
   "source": [
    "from selenium import webdriver\n",
    "from selenium.webdriver.common.by import By\n",
    "from datetime import datetime\n",
    "import pandas as pd\n",
    "import time\n",
    "import os"
   ]
  },
  {
   "cell_type": "code",
   "execution_count": 2,
   "metadata": {},
   "outputs": [],
   "source": [
    "path = f'{os.getcwd()}/PDBs'\n",
    "url = 'https://www.sing-group.org/mahmi/explore.php'"
   ]
  },
  {
   "cell_type": "code",
   "execution_count": 3,
   "metadata": {},
   "outputs": [],
   "source": [
    "data = {\n",
    "    'ID': [],\n",
    "    'SEQUENCE': [],\n",
    "    'BIOACTIVITY': [],\n",
    "    'SIMILARITY': []\n",
    "}"
   ]
  },
  {
   "cell_type": "code",
   "execution_count": 4,
   "metadata": {},
   "outputs": [],
   "source": [
    "driver = webdriver.Chrome()"
   ]
  },
  {
   "cell_type": "code",
   "execution_count": 5,
   "metadata": {},
   "outputs": [
    {
     "name": "stdout",
     "output_type": "stream",
     "text": [
      "Finished\n"
     ]
    }
   ],
   "source": [
    "driver.get(url)\n",
    "while True:\n",
    "    try:\n",
    "        time.sleep(2)\n",
    "        elements = driver.find_elements(By.TAG_NAME, 'td')\n",
    "        for i in range(0, len(elements), 4):\n",
    "            data['ID'].append(elements[i].text)\n",
    "            data['SEQUENCE'].append(elements[i+1].text)\n",
    "            data['BIOACTIVITY'].append(elements[i+2].text)\n",
    "            data['SIMILARITY'].append(elements[i+3].text)\n",
    "        button = driver.find_element(By.CSS_SELECTOR, '.pagination li:last-child a').click()\n",
    "    except:\n",
    "        print('Finished')\n",
    "        break"
   ]
  },
  {
   "cell_type": "code",
   "execution_count": 6,
   "metadata": {},
   "outputs": [],
   "source": [
    "driver.close()"
   ]
  },
  {
   "cell_type": "code",
   "execution_count": 7,
   "metadata": {},
   "outputs": [],
   "source": [
    "df = pd.DataFrame(data)"
   ]
  },
  {
   "cell_type": "code",
   "execution_count": 8,
   "metadata": {},
   "outputs": [],
   "source": [
    "dt = datetime.now()\n",
    "df.to_csv(f'{path}/MAHMI_releases/MAHMI_{dt.strftime(\"%Y_%m_%d\")}.csv', index=False)\n",
    "df.to_csv(f'{path}/MAHMI.csv', index=False)"
   ]
  },
  {
   "cell_type": "code",
   "execution_count": 9,
   "metadata": {},
   "outputs": [
    {
     "data": {
      "text/html": [
       "<div>\n",
       "<style scoped>\n",
       "    .dataframe tbody tr th:only-of-type {\n",
       "        vertical-align: middle;\n",
       "    }\n",
       "\n",
       "    .dataframe tbody tr th {\n",
       "        vertical-align: top;\n",
       "    }\n",
       "\n",
       "    .dataframe thead th {\n",
       "        text-align: right;\n",
       "    }\n",
       "</style>\n",
       "<table border=\"1\" class=\"dataframe\">\n",
       "  <thead>\n",
       "    <tr style=\"text-align: right;\">\n",
       "      <th></th>\n",
       "      <th>ID</th>\n",
       "      <th>SEQUENCE</th>\n",
       "      <th>BIOACTIVITY</th>\n",
       "      <th>SIMILARITY</th>\n",
       "    </tr>\n",
       "  </thead>\n",
       "  <tbody>\n",
       "    <tr>\n",
       "      <th>0</th>\n",
       "      <td>270516746</td>\n",
       "      <td>AEMKQEIVKLINAERARIGLHELKVSPKVMQAAQIRAGECTTLF</td>\n",
       "      <td>Anti-inflammatory</td>\n",
       "      <td>66.666667</td>\n",
       "    </tr>\n",
       "    <tr>\n",
       "      <th>1</th>\n",
       "      <td>270516667</td>\n",
       "      <td>QAAQIRAGECTTL</td>\n",
       "      <td>Anti-inflammatory</td>\n",
       "      <td>66.666667</td>\n",
       "    </tr>\n",
       "    <tr>\n",
       "      <th>2</th>\n",
       "      <td>268297434</td>\n",
       "      <td>LVSNGISGNAAAQIGAMEKAILESIKNRKQEESETGENINARNSHREKF</td>\n",
       "      <td>Anti-inflammatory</td>\n",
       "      <td>66.666667</td>\n",
       "    </tr>\n",
       "    <tr>\n",
       "      <th>3</th>\n",
       "      <td>267770135</td>\n",
       "      <td>RLRAKLRNLCRKLADIRKMEHNILANELLAY</td>\n",
       "      <td>Anti-inflammatory</td>\n",
       "      <td>66.666667</td>\n",
       "    </tr>\n",
       "    <tr>\n",
       "      <th>4</th>\n",
       "      <td>267768896</td>\n",
       "      <td>RNLCRKLADIRKMEHNIL</td>\n",
       "      <td>Anti-inflammatory</td>\n",
       "      <td>66.666667</td>\n",
       "    </tr>\n",
       "    <tr>\n",
       "      <th>...</th>\n",
       "      <td>...</td>\n",
       "      <td>...</td>\n",
       "      <td>...</td>\n",
       "      <td>...</td>\n",
       "    </tr>\n",
       "    <tr>\n",
       "      <th>276395</th>\n",
       "      <td>37790208</td>\n",
       "      <td>SGDITCYLGAV</td>\n",
       "      <td>Immunomodulatory</td>\n",
       "      <td>75.0</td>\n",
       "    </tr>\n",
       "    <tr>\n",
       "      <th>276396</th>\n",
       "      <td>36108688</td>\n",
       "      <td>QGTNCIRIRCY</td>\n",
       "      <td>Immunomodulatory</td>\n",
       "      <td>75.0</td>\n",
       "    </tr>\n",
       "    <tr>\n",
       "      <th>276397</th>\n",
       "      <td>33623027</td>\n",
       "      <td>MLSIIIPLYNK</td>\n",
       "      <td>Immunomodulatory</td>\n",
       "      <td>75.0</td>\n",
       "    </tr>\n",
       "    <tr>\n",
       "      <th>276398</th>\n",
       "      <td>29597671</td>\n",
       "      <td>TVRRESLELPNGNRIPDY</td>\n",
       "      <td>Immunomodulatory</td>\n",
       "      <td>75.0</td>\n",
       "    </tr>\n",
       "    <tr>\n",
       "      <th>276399</th>\n",
       "      <td>25633949</td>\n",
       "      <td>IPVYSYLM</td>\n",
       "      <td>Immunomodulatory</td>\n",
       "      <td>75.0</td>\n",
       "    </tr>\n",
       "  </tbody>\n",
       "</table>\n",
       "<p>276400 rows × 4 columns</p>\n",
       "</div>"
      ],
      "text/plain": [
       "               ID                                           SEQUENCE  \\\n",
       "0       270516746       AEMKQEIVKLINAERARIGLHELKVSPKVMQAAQIRAGECTTLF   \n",
       "1       270516667                                      QAAQIRAGECTTL   \n",
       "2       268297434  LVSNGISGNAAAQIGAMEKAILESIKNRKQEESETGENINARNSHREKF   \n",
       "3       267770135                    RLRAKLRNLCRKLADIRKMEHNILANELLAY   \n",
       "4       267768896                                 RNLCRKLADIRKMEHNIL   \n",
       "...           ...                                                ...   \n",
       "276395   37790208                                        SGDITCYLGAV   \n",
       "276396   36108688                                        QGTNCIRIRCY   \n",
       "276397   33623027                                        MLSIIIPLYNK   \n",
       "276398   29597671                                 TVRRESLELPNGNRIPDY   \n",
       "276399   25633949                                           IPVYSYLM   \n",
       "\n",
       "              BIOACTIVITY SIMILARITY  \n",
       "0       Anti-inflammatory  66.666667  \n",
       "1       Anti-inflammatory  66.666667  \n",
       "2       Anti-inflammatory  66.666667  \n",
       "3       Anti-inflammatory  66.666667  \n",
       "4       Anti-inflammatory  66.666667  \n",
       "...                   ...        ...  \n",
       "276395   Immunomodulatory       75.0  \n",
       "276396   Immunomodulatory       75.0  \n",
       "276397   Immunomodulatory       75.0  \n",
       "276398   Immunomodulatory       75.0  \n",
       "276399   Immunomodulatory       75.0  \n",
       "\n",
       "[276400 rows x 4 columns]"
      ]
     },
     "execution_count": 9,
     "metadata": {},
     "output_type": "execute_result"
    }
   ],
   "source": [
    "df"
   ]
  }
 ],
 "metadata": {
  "kernelspec": {
   "display_name": "Python 3",
   "language": "python",
   "name": "python3"
  },
  "language_info": {
   "codemirror_mode": {
    "name": "ipython",
    "version": 3
   },
   "file_extension": ".py",
   "mimetype": "text/x-python",
   "name": "python",
   "nbconvert_exporter": "python",
   "pygments_lexer": "ipython3",
   "version": "3.8.10"
  }
 },
 "nbformat": 4,
 "nbformat_minor": 5
}
